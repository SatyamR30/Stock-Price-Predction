{
  "nbformat": 4,
  "nbformat_minor": 0,
  "metadata": {
    "colab": {
      "provenance": [],
      "gpuType": "T4"
    },
    "kernelspec": {
      "name": "python3",
      "display_name": "Python 3"
    },
    "language_info": {
      "name": "python"
    },
    "accelerator": "GPU"
  },
  "cells": [
    {
      "cell_type": "code",
      "source": [
        "import pandas as pd"
      ],
      "metadata": {
        "id": "0sjVd5MHc0f2"
      },
      "execution_count": null,
      "outputs": []
    },
    {
      "cell_type": "code",
      "source": [
        "df=pd.read_csv('Microsoft.csv')"
      ],
      "metadata": {
        "id": "L5qc8ZIWcobx"
      },
      "execution_count": null,
      "outputs": []
    },
    {
      "cell_type": "code",
      "source": [
        "\n",
        "df.head()"
      ],
      "metadata": {
        "colab": {
          "base_uri": "https://localhost:8080/",
          "height": 206
        },
        "id": "omskNnb8csom",
        "outputId": "06f48927-d7f4-4f46-e014-9096c28c9e44"
      },
      "execution_count": null,
      "outputs": [
        {
          "output_type": "execute_result",
          "data": {
            "text/plain": [
              "       Open     High       Low     Close  Adj Close    Volume        Date\n",
              "0  58.68750  59.3125  56.00000  58.28125  36.361576  53228400  2000-01-03\n",
              "1  56.78125  58.5625  56.12500  56.31250  35.133263  54119000  2000-01-04\n",
              "2  55.56250  58.1875  54.68750  56.90625  35.503712  64059600  2000-01-05\n",
              "3  56.09375  56.9375  54.18750  55.00000  34.314400  54976600  2000-01-06\n",
              "4  54.31250  56.1250  53.65625  55.71875  34.762833  62013600  2000-01-07"
            ],
            "text/html": [
              "\n",
              "  <div id=\"df-4838c7c0-eca4-45ba-85dc-e9a4773a33b0\" class=\"colab-df-container\">\n",
              "    <div>\n",
              "<style scoped>\n",
              "    .dataframe tbody tr th:only-of-type {\n",
              "        vertical-align: middle;\n",
              "    }\n",
              "\n",
              "    .dataframe tbody tr th {\n",
              "        vertical-align: top;\n",
              "    }\n",
              "\n",
              "    .dataframe thead th {\n",
              "        text-align: right;\n",
              "    }\n",
              "</style>\n",
              "<table border=\"1\" class=\"dataframe\">\n",
              "  <thead>\n",
              "    <tr style=\"text-align: right;\">\n",
              "      <th></th>\n",
              "      <th>Open</th>\n",
              "      <th>High</th>\n",
              "      <th>Low</th>\n",
              "      <th>Close</th>\n",
              "      <th>Adj Close</th>\n",
              "      <th>Volume</th>\n",
              "      <th>Date</th>\n",
              "    </tr>\n",
              "  </thead>\n",
              "  <tbody>\n",
              "    <tr>\n",
              "      <th>0</th>\n",
              "      <td>58.68750</td>\n",
              "      <td>59.3125</td>\n",
              "      <td>56.00000</td>\n",
              "      <td>58.28125</td>\n",
              "      <td>36.361576</td>\n",
              "      <td>53228400</td>\n",
              "      <td>2000-01-03</td>\n",
              "    </tr>\n",
              "    <tr>\n",
              "      <th>1</th>\n",
              "      <td>56.78125</td>\n",
              "      <td>58.5625</td>\n",
              "      <td>56.12500</td>\n",
              "      <td>56.31250</td>\n",
              "      <td>35.133263</td>\n",
              "      <td>54119000</td>\n",
              "      <td>2000-01-04</td>\n",
              "    </tr>\n",
              "    <tr>\n",
              "      <th>2</th>\n",
              "      <td>55.56250</td>\n",
              "      <td>58.1875</td>\n",
              "      <td>54.68750</td>\n",
              "      <td>56.90625</td>\n",
              "      <td>35.503712</td>\n",
              "      <td>64059600</td>\n",
              "      <td>2000-01-05</td>\n",
              "    </tr>\n",
              "    <tr>\n",
              "      <th>3</th>\n",
              "      <td>56.09375</td>\n",
              "      <td>56.9375</td>\n",
              "      <td>54.18750</td>\n",
              "      <td>55.00000</td>\n",
              "      <td>34.314400</td>\n",
              "      <td>54976600</td>\n",
              "      <td>2000-01-06</td>\n",
              "    </tr>\n",
              "    <tr>\n",
              "      <th>4</th>\n",
              "      <td>54.31250</td>\n",
              "      <td>56.1250</td>\n",
              "      <td>53.65625</td>\n",
              "      <td>55.71875</td>\n",
              "      <td>34.762833</td>\n",
              "      <td>62013600</td>\n",
              "      <td>2000-01-07</td>\n",
              "    </tr>\n",
              "  </tbody>\n",
              "</table>\n",
              "</div>\n",
              "    <div class=\"colab-df-buttons\">\n",
              "\n",
              "  <div class=\"colab-df-container\">\n",
              "    <button class=\"colab-df-convert\" onclick=\"convertToInteractive('df-4838c7c0-eca4-45ba-85dc-e9a4773a33b0')\"\n",
              "            title=\"Convert this dataframe to an interactive table.\"\n",
              "            style=\"display:none;\">\n",
              "\n",
              "  <svg xmlns=\"http://www.w3.org/2000/svg\" height=\"24px\" viewBox=\"0 -960 960 960\">\n",
              "    <path d=\"M120-120v-720h720v720H120Zm60-500h600v-160H180v160Zm220 220h160v-160H400v160Zm0 220h160v-160H400v160ZM180-400h160v-160H180v160Zm440 0h160v-160H620v160ZM180-180h160v-160H180v160Zm440 0h160v-160H620v160Z\"/>\n",
              "  </svg>\n",
              "    </button>\n",
              "\n",
              "  <style>\n",
              "    .colab-df-container {\n",
              "      display:flex;\n",
              "      gap: 12px;\n",
              "    }\n",
              "\n",
              "    .colab-df-convert {\n",
              "      background-color: #E8F0FE;\n",
              "      border: none;\n",
              "      border-radius: 50%;\n",
              "      cursor: pointer;\n",
              "      display: none;\n",
              "      fill: #1967D2;\n",
              "      height: 32px;\n",
              "      padding: 0 0 0 0;\n",
              "      width: 32px;\n",
              "    }\n",
              "\n",
              "    .colab-df-convert:hover {\n",
              "      background-color: #E2EBFA;\n",
              "      box-shadow: 0px 1px 2px rgba(60, 64, 67, 0.3), 0px 1px 3px 1px rgba(60, 64, 67, 0.15);\n",
              "      fill: #174EA6;\n",
              "    }\n",
              "\n",
              "    .colab-df-buttons div {\n",
              "      margin-bottom: 4px;\n",
              "    }\n",
              "\n",
              "    [theme=dark] .colab-df-convert {\n",
              "      background-color: #3B4455;\n",
              "      fill: #D2E3FC;\n",
              "    }\n",
              "\n",
              "    [theme=dark] .colab-df-convert:hover {\n",
              "      background-color: #434B5C;\n",
              "      box-shadow: 0px 1px 3px 1px rgba(0, 0, 0, 0.15);\n",
              "      filter: drop-shadow(0px 1px 2px rgba(0, 0, 0, 0.3));\n",
              "      fill: #FFFFFF;\n",
              "    }\n",
              "  </style>\n",
              "\n",
              "    <script>\n",
              "      const buttonEl =\n",
              "        document.querySelector('#df-4838c7c0-eca4-45ba-85dc-e9a4773a33b0 button.colab-df-convert');\n",
              "      buttonEl.style.display =\n",
              "        google.colab.kernel.accessAllowed ? 'block' : 'none';\n",
              "\n",
              "      async function convertToInteractive(key) {\n",
              "        const element = document.querySelector('#df-4838c7c0-eca4-45ba-85dc-e9a4773a33b0');\n",
              "        const dataTable =\n",
              "          await google.colab.kernel.invokeFunction('convertToInteractive',\n",
              "                                                    [key], {});\n",
              "        if (!dataTable) return;\n",
              "\n",
              "        const docLinkHtml = 'Like what you see? Visit the ' +\n",
              "          '<a target=\"_blank\" href=https://colab.research.google.com/notebooks/data_table.ipynb>data table notebook</a>'\n",
              "          + ' to learn more about interactive tables.';\n",
              "        element.innerHTML = '';\n",
              "        dataTable['output_type'] = 'display_data';\n",
              "        await google.colab.output.renderOutput(dataTable, element);\n",
              "        const docLink = document.createElement('div');\n",
              "        docLink.innerHTML = docLinkHtml;\n",
              "        element.appendChild(docLink);\n",
              "      }\n",
              "    </script>\n",
              "  </div>\n",
              "\n",
              "\n",
              "<div id=\"df-dffebd03-5979-40a6-8907-6aaff490de50\">\n",
              "  <button class=\"colab-df-quickchart\" onclick=\"quickchart('df-dffebd03-5979-40a6-8907-6aaff490de50')\"\n",
              "            title=\"Suggest charts.\"\n",
              "            style=\"display:none;\">\n",
              "\n",
              "<svg xmlns=\"http://www.w3.org/2000/svg\" height=\"24px\"viewBox=\"0 0 24 24\"\n",
              "     width=\"24px\">\n",
              "    <g>\n",
              "        <path d=\"M19 3H5c-1.1 0-2 .9-2 2v14c0 1.1.9 2 2 2h14c1.1 0 2-.9 2-2V5c0-1.1-.9-2-2-2zM9 17H7v-7h2v7zm4 0h-2V7h2v10zm4 0h-2v-4h2v4z\"/>\n",
              "    </g>\n",
              "</svg>\n",
              "  </button>\n",
              "\n",
              "<style>\n",
              "  .colab-df-quickchart {\n",
              "      --bg-color: #E8F0FE;\n",
              "      --fill-color: #1967D2;\n",
              "      --hover-bg-color: #E2EBFA;\n",
              "      --hover-fill-color: #174EA6;\n",
              "      --disabled-fill-color: #AAA;\n",
              "      --disabled-bg-color: #DDD;\n",
              "  }\n",
              "\n",
              "  [theme=dark] .colab-df-quickchart {\n",
              "      --bg-color: #3B4455;\n",
              "      --fill-color: #D2E3FC;\n",
              "      --hover-bg-color: #434B5C;\n",
              "      --hover-fill-color: #FFFFFF;\n",
              "      --disabled-bg-color: #3B4455;\n",
              "      --disabled-fill-color: #666;\n",
              "  }\n",
              "\n",
              "  .colab-df-quickchart {\n",
              "    background-color: var(--bg-color);\n",
              "    border: none;\n",
              "    border-radius: 50%;\n",
              "    cursor: pointer;\n",
              "    display: none;\n",
              "    fill: var(--fill-color);\n",
              "    height: 32px;\n",
              "    padding: 0;\n",
              "    width: 32px;\n",
              "  }\n",
              "\n",
              "  .colab-df-quickchart:hover {\n",
              "    background-color: var(--hover-bg-color);\n",
              "    box-shadow: 0 1px 2px rgba(60, 64, 67, 0.3), 0 1px 3px 1px rgba(60, 64, 67, 0.15);\n",
              "    fill: var(--button-hover-fill-color);\n",
              "  }\n",
              "\n",
              "  .colab-df-quickchart-complete:disabled,\n",
              "  .colab-df-quickchart-complete:disabled:hover {\n",
              "    background-color: var(--disabled-bg-color);\n",
              "    fill: var(--disabled-fill-color);\n",
              "    box-shadow: none;\n",
              "  }\n",
              "\n",
              "  .colab-df-spinner {\n",
              "    border: 2px solid var(--fill-color);\n",
              "    border-color: transparent;\n",
              "    border-bottom-color: var(--fill-color);\n",
              "    animation:\n",
              "      spin 1s steps(1) infinite;\n",
              "  }\n",
              "\n",
              "  @keyframes spin {\n",
              "    0% {\n",
              "      border-color: transparent;\n",
              "      border-bottom-color: var(--fill-color);\n",
              "      border-left-color: var(--fill-color);\n",
              "    }\n",
              "    20% {\n",
              "      border-color: transparent;\n",
              "      border-left-color: var(--fill-color);\n",
              "      border-top-color: var(--fill-color);\n",
              "    }\n",
              "    30% {\n",
              "      border-color: transparent;\n",
              "      border-left-color: var(--fill-color);\n",
              "      border-top-color: var(--fill-color);\n",
              "      border-right-color: var(--fill-color);\n",
              "    }\n",
              "    40% {\n",
              "      border-color: transparent;\n",
              "      border-right-color: var(--fill-color);\n",
              "      border-top-color: var(--fill-color);\n",
              "    }\n",
              "    60% {\n",
              "      border-color: transparent;\n",
              "      border-right-color: var(--fill-color);\n",
              "    }\n",
              "    80% {\n",
              "      border-color: transparent;\n",
              "      border-right-color: var(--fill-color);\n",
              "      border-bottom-color: var(--fill-color);\n",
              "    }\n",
              "    90% {\n",
              "      border-color: transparent;\n",
              "      border-bottom-color: var(--fill-color);\n",
              "    }\n",
              "  }\n",
              "</style>\n",
              "\n",
              "  <script>\n",
              "    async function quickchart(key) {\n",
              "      const quickchartButtonEl =\n",
              "        document.querySelector('#' + key + ' button');\n",
              "      quickchartButtonEl.disabled = true;  // To prevent multiple clicks.\n",
              "      quickchartButtonEl.classList.add('colab-df-spinner');\n",
              "      try {\n",
              "        const charts = await google.colab.kernel.invokeFunction(\n",
              "            'suggestCharts', [key], {});\n",
              "      } catch (error) {\n",
              "        console.error('Error during call to suggestCharts:', error);\n",
              "      }\n",
              "      quickchartButtonEl.classList.remove('colab-df-spinner');\n",
              "      quickchartButtonEl.classList.add('colab-df-quickchart-complete');\n",
              "    }\n",
              "    (() => {\n",
              "      let quickchartButtonEl =\n",
              "        document.querySelector('#df-dffebd03-5979-40a6-8907-6aaff490de50 button');\n",
              "      quickchartButtonEl.style.display =\n",
              "        google.colab.kernel.accessAllowed ? 'block' : 'none';\n",
              "    })();\n",
              "  </script>\n",
              "</div>\n",
              "    </div>\n",
              "  </div>\n"
            ]
          },
          "metadata": {},
          "execution_count": 7
        }
      ]
    },
    {
      "cell_type": "code",
      "source": [
        "df1=df.reset_index()['Close']"
      ],
      "metadata": {
        "id": "5V2RwSwxcu-Y"
      },
      "execution_count": null,
      "outputs": []
    },
    {
      "cell_type": "code",
      "source": [
        "df1\n"
      ],
      "metadata": {
        "colab": {
          "base_uri": "https://localhost:8080/"
        },
        "id": "PN3DwJ5AdYK7",
        "outputId": "a1326c42-be55-4b6a-8d01-00e6479eb4ab"
      },
      "execution_count": null,
      "outputs": [
        {
          "output_type": "execute_result",
          "data": {
            "text/plain": [
              "0        58.281250\n",
              "1        56.312500\n",
              "2        56.906250\n",
              "3        55.000000\n",
              "4        55.718750\n",
              "           ...    \n",
              "5834    253.919998\n",
              "5835    260.790009\n",
              "5836    265.440002\n",
              "5837    276.200012\n",
              "5838    279.429993\n",
              "Name: Close, Length: 5839, dtype: float64"
            ]
          },
          "metadata": {},
          "execution_count": 9
        }
      ]
    },
    {
      "cell_type": "code",
      "source": [
        "import matplotlib.pyplot as plt\n",
        "plt.plot(df1)"
      ],
      "metadata": {
        "colab": {
          "base_uri": "https://localhost:8080/",
          "height": 447
        },
        "id": "Mu-k3iSWdf9H",
        "outputId": "2430124e-4467-40f0-a89d-7fba26938fe7"
      },
      "execution_count": null,
      "outputs": [
        {
          "output_type": "execute_result",
          "data": {
            "text/plain": [
              "[<matplotlib.lines.Line2D at 0x7a95a36b6a70>]"
            ]
          },
          "metadata": {},
          "execution_count": 10
        },
        {
          "output_type": "display_data",
          "data": {
            "text/plain": [
              "<Figure size 640x480 with 1 Axes>"
            ],
            "image/png": "[encoded data removed]"
          },
          "metadata": {}
        }
      ]
    },
    {
      "cell_type": "markdown",
      "source": [
        "### LSTM are sensitive to the scale of the data. So we apply MinMax scaler"
      ],
      "metadata": {
        "id": "zcJ5qbi1eTBx"
      }
    },
    {
      "cell_type": "code",
      "source": [
        "import numpy as np"
      ],
      "metadata": {
        "id": "2euSrARReYnP"
      },
      "execution_count": null,
      "outputs": []
    },
    {
      "cell_type": "markdown",
      "source": [
        "reshape(-1,1) will reshape the array in such a way that the resulting array has only 1 column and multiple rows\n",
        "\n",
        "MinMax scaler will convert the values from 0 to 1"
      ],
      "metadata": {
        "id": "Y0YazDoUe0dX"
      }
    },
    {
      "cell_type": "code",
      "source": [
        "from sklearn.preprocessing import MinMaxScaler\n",
        "scaler=MinMaxScaler(feature_range=(0,1))\n",
        "df1=scaler.fit_transform(np.array(df1).reshape(-1,1))"
      ],
      "metadata": {
        "id": "FvLrnsMneeKt"
      },
      "execution_count": null,
      "outputs": []
    },
    {
      "cell_type": "code",
      "source": [
        "df1"
      ],
      "metadata": {
        "colab": {
          "base_uri": "https://localhost:8080/"
        },
        "id": "3kPXVE8-eegM",
        "outputId": "53fe1913-8b1b-4912-a31b-44d090b12c4c"
      },
      "execution_count": null,
      "outputs": [
        {
          "output_type": "execute_result",
          "data": {
            "text/plain": [
              "array([[0.13151376],\n",
              "       [0.12551074],\n",
              "       [0.12732117],\n",
              "       ...,\n",
              "       [0.76317238],\n",
              "       [0.79598129],\n",
              "       [0.80582999]])"
            ]
          },
          "metadata": {},
          "execution_count": 13
        }
      ]
    },
    {
      "cell_type": "markdown",
      "source": [
        "##splitting dataset into train and test split"
      ],
      "metadata": {
        "id": "LdNbaiA3fjEK"
      }
    },
    {
      "cell_type": "code",
      "source": [
        "training_size=int(len(df1)*0.70)\n",
        "test_size=len(df1)-training_size\n",
        "train_data,test_data=df1[0:training_size,:],df1[training_size:len(df1),:1]"
      ],
      "metadata": {
        "id": "Jf_VY6ieewRl"
      },
      "execution_count": null,
      "outputs": []
    },
    {
      "cell_type": "code",
      "source": [
        "training_size,test_size\n"
      ],
      "metadata": {
        "colab": {
          "base_uri": "https://localhost:8080/"
        },
        "id": "4OtXx9mvf35Y",
        "outputId": "d31da2fc-d9e9-4650-d2b5-f328b1fbdb9e"
      },
      "execution_count": null,
      "outputs": [
        {
          "output_type": "execute_result",
          "data": {
            "text/plain": [
              "(4087, 1752)"
            ]
          },
          "metadata": {},
          "execution_count": 15
        }
      ]
    },
    {
      "cell_type": "code",
      "source": [
        "import numpy\n",
        "# convert an array of values into a dataset matrix\n",
        "def create_dataset(dataset, time_step=1):\n",
        "\tdataX, dataY = [], []\n",
        "\tfor i in range(len(dataset)-time_step-1):\n",
        "\t\ta = dataset[i:(i+time_step), 0]   ###i=0, 0,1,2,3-----199   200\n",
        "\t\tdataX.append(a)\n",
        "\t\tdataY.append(dataset[i + time_step, 0])\n",
        "\treturn numpy.array(dataX), numpy.array(dataY)"
      ],
      "metadata": {
        "id": "1p6y4qV8f7YZ"
      },
      "execution_count": null,
      "outputs": []
    },
    {
      "cell_type": "code",
      "source": [
        "time_step = 150\n",
        "X_train, Y_train = create_dataset(train_data, time_step)\n",
        "X_test, Y_test = create_dataset(test_data, time_step)"
      ],
      "metadata": {
        "id": "F-NaJ20SiAoT"
      },
      "execution_count": null,
      "outputs": []
    },
    {
      "cell_type": "code",
      "source": [
        "X_train.shape, Y_train.shape\n"
      ],
      "metadata": {
        "colab": {
          "base_uri": "https://localhost:8080/"
        },
        "id": "XmHH8nWjiQyo",
        "outputId": "43f1dffd-18c0-48f6-9534-39f4ea895fc1"
      },
      "execution_count": null,
      "outputs": [
        {
          "output_type": "execute_result",
          "data": {
            "text/plain": [
              "((3936, 150), (3936,))"
            ]
          },
          "metadata": {},
          "execution_count": 18
        }
      ]
    },
    {
      "cell_type": "code",
      "source": [
        "# reshape input to be [samples, time steps, features] which is required for LSTM\n",
        "X_train =X_train.reshape(X_train.shape[0],X_train.shape[1] , 1)\n",
        "X_test = X_test.reshape(X_test.shape[0],X_test.shape[1] , 1)"
      ],
      "metadata": {
        "id": "rVugDqbcitop"
      },
      "execution_count": null,
      "outputs": []
    },
    {
      "cell_type": "code",
      "source": [
        "import tensorflow as tf\n",
        "import keras"
      ],
      "metadata": {
        "id": "r_5eRsy2jrUu"
      },
      "execution_count": null,
      "outputs": []
    },
    {
      "cell_type": "code",
      "source": [
        "from tensorflow.keras.models import Sequential\n",
        "from tensorflow.keras.layers import Dense\n",
        "from tensorflow.keras.layers import LSTM\n",
        "from tensorflow.keras.layers import Dropout"
      ],
      "metadata": {
        "id": "3q0YX8tKjau3"
      },
      "execution_count": null,
      "outputs": []
    },
    {
      "cell_type": "code",
      "source": [
        "model=Sequential()\n",
        "model.add(LSTM(50,return_sequences=True,input_shape=(150,1)))\n",
        "model.add(LSTM(50,return_sequences=True))\n",
        "model.add(LSTM(50))\n",
        "model.add(Dense(1))\n",
        "model.compile(loss='mean_squared_error',optimizer='adam')"
      ],
      "metadata": {
        "id": "F0Q9JJ7gjvRE"
      },
      "execution_count": null,
      "outputs": []
    },
    {
      "cell_type": "code",
      "source": [
        "model.summary()"
      ],
      "metadata": {
        "colab": {
          "base_uri": "https://localhost:8080/"
        },
        "id": "h4xuu3tdk6eM",
        "outputId": "db7820eb-e536-41d3-8527-0db0ec46580e"
      },
      "execution_count": null,
      "outputs": [
        {
          "output_type": "stream",
          "name": "stdout",
          "text": [
            "Model: \"sequential_1\"\n",
            "_________________________________________________________________\n",
            " Layer (type)                Output Shape              Param #   \n",
            "=================================================================\n",
            " lstm_3 (LSTM)               (None, 150, 50)           10400     \n",
            "                                                                 \n",
            " lstm_4 (LSTM)               (None, 150, 50)           20200     \n",
            "                                                                 \n",
            " lstm_5 (LSTM)               (None, 50)                20200     \n",
            "                                                                 \n",
            " dense_1 (Dense)             (None, 1)                 51        \n",
            "                                                                 \n",
            "=================================================================\n",
            "Total params: 50851 (198.64 KB)\n",
            "Trainable params: 50851 (198.64 KB)\n",
            "Non-trainable params: 0 (0.00 Byte)\n",
            "_________________________________________________________________\n"
          ]
        }
      ]
    },
    {
      "cell_type": "code",
      "source": [
        "model.fit(X_train,Y_train,validation_data=(X_test,Y_test),epochs=100,batch_size=64,verbose=1)"
      ],
      "metadata": {
        "colab": {
          "base_uri": "https://localhost:8080/"
        },
        "id": "dj-3HctFlN_O",
        "outputId": "411c1cd9-07d4-44ad-8ca4-af3893233749"
      },
      "execution_count": null,
      "outputs": [
        {
          "output_type": "stream",
          "name": "stdout",
          "text": [
            "Epoch 1/100\n",
            "62/62 [==============================] - 13s 46ms/step - loss: 1.8877e-04 - val_loss: 0.0030\n",
            "Epoch 2/100\n",
            "62/62 [==============================] - 1s 19ms/step - loss: 2.1129e-05 - val_loss: 0.0013\n",
            "Epoch 3/100\n",
            "62/62 [==============================] - 1s 21ms/step - loss: 1.9919e-05 - val_loss: 7.5226e-04\n",
            "Epoch 4/100\n",
            "62/62 [==============================] - 1s 19ms/step - loss: 1.9296e-05 - val_loss: 6.4608e-04\n",
            "Epoch 5/100\n",
            "62/62 [==============================] - 1s 19ms/step - loss: 1.6299e-05 - val_loss: 0.0016\n",
            "Epoch 6/100\n",
            "62/62 [==============================] - 1s 19ms/step - loss: 1.6331e-05 - val_loss: 7.7928e-04\n",
            "Epoch 7/100\n",
            "62/62 [==============================] - 1s 19ms/step - loss: 1.5168e-05 - val_loss: 9.9792e-04\n",
            "Epoch 8/100\n",
            "62/62 [==============================] - 1s 19ms/step - loss: 1.5152e-05 - val_loss: 0.0012\n",
            "Epoch 9/100\n",
            "62/62 [==============================] - 1s 24ms/step - loss: 1.4212e-05 - val_loss: 0.0022\n",
            "Epoch 10/100\n",
            "62/62 [==============================] - 2s 25ms/step - loss: 1.3736e-05 - val_loss: 0.0034\n",
            "Epoch 11/100\n",
            "62/62 [==============================] - 1s 19ms/step - loss: 1.2392e-05 - val_loss: 0.0029\n",
            "Epoch 12/100\n",
            "62/62 [==============================] - 1s 19ms/step - loss: 1.3447e-05 - val_loss: 0.0043\n",
            "Epoch 13/100\n",
            "62/62 [==============================] - 1s 19ms/step - loss: 1.2245e-05 - val_loss: 0.0038\n",
            "Epoch 14/100\n",
            "62/62 [==============================] - 1s 18ms/step - loss: 1.1883e-05 - val_loss: 0.0038\n",
            "Epoch 15/100\n",
            "62/62 [==============================] - 1s 18ms/step - loss: 1.0851e-05 - val_loss: 0.0036\n",
            "Epoch 16/100\n",
            "62/62 [==============================] - 1s 18ms/step - loss: 1.1364e-05 - val_loss: 0.0026\n",
            "Epoch 17/100\n",
            "62/62 [==============================] - 1s 20ms/step - loss: 1.1283e-05 - val_loss: 0.0042\n",
            "Epoch 18/100\n",
            "62/62 [==============================] - 1s 19ms/step - loss: 1.1632e-05 - val_loss: 0.0040\n",
            "Epoch 19/100\n",
            "62/62 [==============================] - 2s 25ms/step - loss: 1.1075e-05 - val_loss: 0.0037\n",
            "Epoch 20/100\n",
            "62/62 [==============================] - 2s 25ms/step - loss: 1.0523e-05 - val_loss: 0.0029\n",
            "Epoch 21/100\n",
            "62/62 [==============================] - 1s 20ms/step - loss: 1.0413e-05 - val_loss: 0.0047\n",
            "Epoch 22/100\n",
            "62/62 [==============================] - 1s 20ms/step - loss: 1.0675e-05 - val_loss: 0.0016\n",
            "Epoch 23/100\n",
            "62/62 [==============================] - 1s 19ms/step - loss: 9.3384e-06 - val_loss: 0.0038\n",
            "Epoch 24/100\n",
            "62/62 [==============================] - 1s 19ms/step - loss: 1.2857e-05 - val_loss: 9.8979e-04\n",
            "Epoch 25/100\n",
            "62/62 [==============================] - 1s 19ms/step - loss: 1.0574e-05 - val_loss: 0.0037\n",
            "Epoch 26/100\n",
            "62/62 [==============================] - 1s 19ms/step - loss: 9.0756e-06 - val_loss: 0.0039\n",
            "Epoch 27/100\n",
            "62/62 [==============================] - 1s 19ms/step - loss: 8.8128e-06 - val_loss: 0.0032\n",
            "Epoch 28/100\n",
            "62/62 [==============================] - 1s 19ms/step - loss: 8.7399e-06 - val_loss: 0.0014\n",
            "Epoch 29/100\n",
            "62/62 [==============================] - 2s 29ms/step - loss: 8.0236e-06 - val_loss: 0.0022\n",
            "Epoch 30/100\n",
            "62/62 [==============================] - 1s 22ms/step - loss: 9.2822e-06 - val_loss: 0.0030\n",
            "Epoch 31/100\n",
            "62/62 [==============================] - 1s 20ms/step - loss: 7.6017e-06 - val_loss: 0.0057\n",
            "Epoch 32/100\n",
            "62/62 [==============================] - 1s 19ms/step - loss: 7.9313e-06 - val_loss: 0.0028\n",
            "Epoch 33/100\n",
            "62/62 [==============================] - 1s 20ms/step - loss: 8.9166e-06 - val_loss: 0.0019\n",
            "Epoch 34/100\n",
            "62/62 [==============================] - 1s 19ms/step - loss: 7.6096e-06 - val_loss: 0.0022\n",
            "Epoch 35/100\n",
            "62/62 [==============================] - 1s 19ms/step - loss: 7.7057e-06 - val_loss: 0.0017\n",
            "Epoch 36/100\n",
            "62/62 [==============================] - 1s 19ms/step - loss: 7.2836e-06 - val_loss: 0.0022\n",
            "Epoch 37/100\n",
            "62/62 [==============================] - 1s 19ms/step - loss: 7.3276e-06 - val_loss: 0.0027\n",
            "Epoch 38/100\n",
            "62/62 [==============================] - 1s 23ms/step - loss: 6.3359e-06 - val_loss: 0.0027\n",
            "Epoch 39/100\n",
            "62/62 [==============================] - 2s 26ms/step - loss: 7.0964e-06 - val_loss: 0.0021\n",
            "Epoch 40/100\n",
            "62/62 [==============================] - 1s 19ms/step - loss: 6.3655e-06 - val_loss: 0.0022\n",
            "Epoch 41/100\n",
            "62/62 [==============================] - 1s 19ms/step - loss: 6.5833e-06 - val_loss: 0.0020\n",
            "Epoch 42/100\n",
            "62/62 [==============================] - 1s 20ms/step - loss: 6.7845e-06 - val_loss: 0.0020\n",
            "Epoch 43/100\n",
            "62/62 [==============================] - 1s 21ms/step - loss: 6.8515e-06 - val_loss: 0.0019\n",
            "Epoch 44/100\n",
            "62/62 [==============================] - 1s 19ms/step - loss: 6.1319e-06 - val_loss: 0.0020\n",
            "Epoch 45/100\n",
            "62/62 [==============================] - 1s 19ms/step - loss: 5.7101e-06 - val_loss: 0.0033\n",
            "Epoch 46/100\n",
            "62/62 [==============================] - 1s 19ms/step - loss: 6.1469e-06 - val_loss: 0.0012\n",
            "Epoch 47/100\n",
            "62/62 [==============================] - 1s 19ms/step - loss: 5.2109e-06 - val_loss: 0.0028\n",
            "Epoch 48/100\n",
            "62/62 [==============================] - 2s 28ms/step - loss: 5.2933e-06 - val_loss: 0.0016\n",
            "Epoch 49/100\n",
            "62/62 [==============================] - 1s 22ms/step - loss: 5.0664e-06 - val_loss: 0.0017\n",
            "Epoch 50/100\n",
            "62/62 [==============================] - 1s 20ms/step - loss: 5.0944e-06 - val_loss: 0.0021\n",
            "Epoch 51/100\n",
            "62/62 [==============================] - 1s 20ms/step - loss: 5.2595e-06 - val_loss: 7.4864e-04\n",
            "Epoch 52/100\n",
            "62/62 [==============================] - 1s 19ms/step - loss: 6.1883e-06 - val_loss: 6.2792e-04\n",
            "Epoch 53/100\n",
            "62/62 [==============================] - 1s 20ms/step - loss: 4.6805e-06 - val_loss: 8.3872e-04\n",
            "Epoch 54/100\n",
            "62/62 [==============================] - 1s 21ms/step - loss: 4.9749e-06 - val_loss: 5.4945e-04\n",
            "Epoch 55/100\n",
            "62/62 [==============================] - 1s 19ms/step - loss: 4.6315e-06 - val_loss: 7.4167e-04\n",
            "Epoch 56/100\n",
            "62/62 [==============================] - 1s 22ms/step - loss: 4.1111e-06 - val_loss: 0.0015\n",
            "Epoch 57/100\n",
            "62/62 [==============================] - 2s 26ms/step - loss: 4.4040e-06 - val_loss: 5.9760e-04\n",
            "Epoch 58/100\n",
            "62/62 [==============================] - 2s 25ms/step - loss: 4.8186e-06 - val_loss: 0.0015\n",
            "Epoch 59/100\n",
            "62/62 [==============================] - 1s 19ms/step - loss: 4.0637e-06 - val_loss: 5.8754e-04\n",
            "Epoch 60/100\n",
            "62/62 [==============================] - 1s 19ms/step - loss: 4.0567e-06 - val_loss: 4.0029e-04\n",
            "Epoch 61/100\n",
            "62/62 [==============================] - 1s 19ms/step - loss: 4.2757e-06 - val_loss: 8.8573e-04\n",
            "Epoch 62/100\n",
            "62/62 [==============================] - 1s 19ms/step - loss: 4.0179e-06 - val_loss: 6.8417e-04\n",
            "Epoch 63/100\n",
            "62/62 [==============================] - 1s 19ms/step - loss: 3.6675e-06 - val_loss: 8.2079e-04\n",
            "Epoch 64/100\n",
            "62/62 [==============================] - 1s 20ms/step - loss: 4.2141e-06 - val_loss: 4.9569e-04\n",
            "Epoch 65/100\n",
            "62/62 [==============================] - 1s 20ms/step - loss: 3.6857e-06 - val_loss: 7.6575e-04\n",
            "Epoch 66/100\n",
            "62/62 [==============================] - 1s 19ms/step - loss: 3.7465e-06 - val_loss: 1.9715e-04\n",
            "Epoch 67/100\n",
            "62/62 [==============================] - 2s 28ms/step - loss: 3.7161e-06 - val_loss: 6.9255e-04\n",
            "Epoch 68/100\n",
            "62/62 [==============================] - 1s 22ms/step - loss: 3.6108e-06 - val_loss: 3.5527e-04\n",
            "Epoch 69/100\n",
            "62/62 [==============================] - 1s 19ms/step - loss: 3.7740e-06 - val_loss: 6.4612e-04\n",
            "Epoch 70/100\n",
            "62/62 [==============================] - 1s 19ms/step - loss: 4.1538e-06 - val_loss: 8.5073e-04\n",
            "Epoch 71/100\n",
            "62/62 [==============================] - 1s 19ms/step - loss: 3.2787e-06 - val_loss: 5.9074e-04\n",
            "Epoch 72/100\n",
            "62/62 [==============================] - 1s 21ms/step - loss: 3.3556e-06 - val_loss: 4.6236e-04\n",
            "Epoch 73/100\n",
            "62/62 [==============================] - 1s 19ms/step - loss: 4.4149e-06 - val_loss: 1.6098e-04\n",
            "Epoch 74/100\n",
            "62/62 [==============================] - 1s 18ms/step - loss: 3.5229e-06 - val_loss: 5.6068e-04\n",
            "Epoch 75/100\n",
            "62/62 [==============================] - 1s 18ms/step - loss: 3.4144e-06 - val_loss: 7.7265e-04\n",
            "Epoch 76/100\n",
            "62/62 [==============================] - 1s 20ms/step - loss: 3.4126e-06 - val_loss: 2.6242e-04\n",
            "Epoch 77/100\n",
            "62/62 [==============================] - 2s 26ms/step - loss: 3.9822e-06 - val_loss: 4.6948e-04\n",
            "Epoch 78/100\n",
            "62/62 [==============================] - 1s 20ms/step - loss: 3.3745e-06 - val_loss: 3.3737e-04\n",
            "Epoch 79/100\n",
            "62/62 [==============================] - 1s 18ms/step - loss: 3.3141e-06 - val_loss: 4.8002e-04\n",
            "Epoch 80/100\n",
            "62/62 [==============================] - 1s 18ms/step - loss: 3.3135e-06 - val_loss: 2.1283e-04\n",
            "Epoch 81/100\n",
            "62/62 [==============================] - 1s 19ms/step - loss: 3.5002e-06 - val_loss: 3.7934e-04\n",
            "Epoch 82/100\n",
            "62/62 [==============================] - 1s 18ms/step - loss: 3.6517e-06 - val_loss: 1.2894e-04\n",
            "Epoch 83/100\n",
            "62/62 [==============================] - 1s 18ms/step - loss: 3.8775e-06 - val_loss: 2.3929e-04\n",
            "Epoch 84/100\n",
            "62/62 [==============================] - 1s 19ms/step - loss: 3.2381e-06 - val_loss: 3.4404e-04\n",
            "Epoch 85/100\n",
            "62/62 [==============================] - 1s 18ms/step - loss: 3.8493e-06 - val_loss: 2.1710e-04\n",
            "Epoch 86/100\n",
            "62/62 [==============================] - 1s 19ms/step - loss: 3.7065e-06 - val_loss: 5.1248e-04\n",
            "Epoch 87/100\n",
            "62/62 [==============================] - 2s 26ms/step - loss: 3.6586e-06 - val_loss: 2.0459e-04\n",
            "Epoch 88/100\n",
            "62/62 [==============================] - 1s 21ms/step - loss: 3.5600e-06 - val_loss: 2.0525e-04\n",
            "Epoch 89/100\n",
            "62/62 [==============================] - 1s 18ms/step - loss: 3.4885e-06 - val_loss: 1.2850e-04\n",
            "Epoch 90/100\n",
            "62/62 [==============================] - 1s 18ms/step - loss: 3.4898e-06 - val_loss: 5.0868e-04\n",
            "Epoch 91/100\n",
            "62/62 [==============================] - 1s 20ms/step - loss: 3.8293e-06 - val_loss: 5.3887e-04\n",
            "Epoch 92/100\n",
            "62/62 [==============================] - 1s 18ms/step - loss: 3.8138e-06 - val_loss: 1.9282e-04\n",
            "Epoch 93/100\n",
            "62/62 [==============================] - 1s 18ms/step - loss: 3.3249e-06 - val_loss: 1.5906e-04\n",
            "Epoch 94/100\n",
            "62/62 [==============================] - 1s 18ms/step - loss: 3.5987e-06 - val_loss: 3.0794e-04\n",
            "Epoch 95/100\n",
            "62/62 [==============================] - 1s 19ms/step - loss: 3.8925e-06 - val_loss: 1.3498e-04\n",
            "Epoch 96/100\n",
            "62/62 [==============================] - 1s 19ms/step - loss: 3.3298e-06 - val_loss: 1.6138e-04\n",
            "Epoch 97/100\n",
            "62/62 [==============================] - 2s 25ms/step - loss: 3.1516e-06 - val_loss: 1.5470e-04\n",
            "Epoch 98/100\n",
            "62/62 [==============================] - 1s 21ms/step - loss: 3.6228e-06 - val_loss: 1.2570e-04\n",
            "Epoch 99/100\n",
            "62/62 [==============================] - 1s 19ms/step - loss: 3.4850e-06 - val_loss: 3.5190e-04\n",
            "Epoch 100/100\n",
            "62/62 [==============================] - 1s 18ms/step - loss: 3.8004e-06 - val_loss: 1.3079e-04\n"
          ]
        },
        {
          "output_type": "execute_result",
          "data": {
            "text/plain": [
              "<keras.src.callbacks.History at 0x7a9540143910>"
            ]
          },
          "metadata": {},
          "execution_count": 26
        }
      ]
    },
    {
      "cell_type": "code",
      "source": [
        "train_predict=model.predict(X_train)\n",
        "test_predict=model.predict(X_test)\n"
      ],
      "metadata": {
        "colab": {
          "base_uri": "https://localhost:8080/"
        },
        "id": "30vGBktNliXX",
        "outputId": "0e825179-ce29-494b-d1f6-2e91d3134dfc"
      },
      "execution_count": null,
      "outputs": [
        {
          "output_type": "stream",
          "name": "stdout",
          "text": [
            "123/123 [==============================] - 2s 9ms/step\n",
            "51/51 [==============================] - 1s 7ms/step\n"
          ]
        }
      ]
    },
    {
      "cell_type": "markdown",
      "source": [
        "###Transformback to original form\n"
      ],
      "metadata": {
        "id": "HJGfR2ZJnrOT"
      }
    },
    {
      "cell_type": "code",
      "source": [
        "train_predict=scaler.inverse_transform(train_predict)\n",
        "test_predict=scaler.inverse_transform(test_predict)\n"
      ],
      "metadata": {
        "id": "Z_AHw2-JnuWp"
      },
      "execution_count": null,
      "outputs": []
    },
    {
      "cell_type": "code",
      "source": [
        "train_predict.shape, test_predict.shape"
      ],
      "metadata": {
        "colab": {
          "base_uri": "https://localhost:8080/"
        },
        "id": "2xWVfFoLqU2K",
        "outputId": "ea187e2c-3de8-4d59-a725-8d947ce245ea"
      },
      "execution_count": null,
      "outputs": [
        {
          "output_type": "execute_result",
          "data": {
            "text/plain": [
              "((3936, 1), (1601, 1))"
            ]
          },
          "metadata": {},
          "execution_count": 29
        }
      ]
    },
    {
      "cell_type": "markdown",
      "source": [
        "#### Calculate RMSE performance metrics"
      ],
      "metadata": {
        "id": "8SjhGWBtnhan"
      }
    },
    {
      "cell_type": "code",
      "source": [
        "import math\n",
        "from sklearn.metrics import mean_squared_error\n",
        "math.sqrt(mean_squared_error(Y_train,train_predict))"
      ],
      "metadata": {
        "colab": {
          "base_uri": "https://localhost:8080/"
        },
        "id": "LoIC1mklmllb",
        "outputId": "cc21daab-986f-4a72-8fc9-15d3569abb88"
      },
      "execution_count": null,
      "outputs": [
        {
          "output_type": "execute_result",
          "data": {
            "text/plain": [
              "30.88402639751128"
            ]
          },
          "metadata": {},
          "execution_count": 30
        }
      ]
    },
    {
      "cell_type": "markdown",
      "source": [
        "#### Test Data RMSE"
      ],
      "metadata": {
        "id": "rNwtKBOEn_iz"
      }
    },
    {
      "cell_type": "code",
      "source": [
        "math.sqrt(mean_squared_error(Y_test,test_predict))\n"
      ],
      "metadata": {
        "colab": {
          "base_uri": "https://localhost:8080/"
        },
        "id": "GWLdzDyAny-j",
        "outputId": "677427cc-faf4-435c-cff2-9f9459cd0c71"
      },
      "execution_count": null,
      "outputs": [
        {
          "output_type": "execute_result",
          "data": {
            "text/plain": [
              "192.21884629432077"
            ]
          },
          "metadata": {},
          "execution_count": 31
        }
      ]
    },
    {
      "cell_type": "code",
      "source": [
        "### Plotting\n",
        "# shift train predictions for plotting\n",
        "step=150\n",
        "trainPredictPlot = numpy.empty_like(df1)\n",
        "trainPredictPlot[:, :] = np.nan\n",
        "trainPredictPlot[step:len(train_predict)+step, :] = train_predict\n",
        "# shift test predictions for plotting\n",
        "testPredictPlot = numpy.empty_like(df1)\n",
        "testPredictPlot[:, :] = numpy.nan\n",
        "testPredictPlot[len(train_predict)+(step*2)+1:len(df1)-1, :] = test_predict\n",
        "# plot baseline and predictions\n",
        "plt.plot(scaler.inverse_transform(df1))\n",
        "plt.plot(trainPredictPlot)\n",
        "plt.plot(testPredictPlot)\n",
        "plt.xlabel('Days')\n",
        "plt.ylabel('Price')\n",
        "plt.show()\n"
      ],
      "metadata": {
        "colab": {
          "base_uri": "https://localhost:8080/",
          "height": 449
        },
        "id": "ueqSiCsOoDRO",
        "outputId": "c5972750-7f76-4e34-96c9-1fa8a32e0e60"
      },
      "execution_count": null,
      "outputs": [
        {
          "output_type": "display_data",
          "data": {
            "text/plain": [
              "<Figure size 640x480 with 1 Axes>"
            ],
            "image/png": "[encoded data removed]"
          },
          "metadata": {}
        }
      ]
    },
    {
      "cell_type": "markdown",
      "source": [
        "##Forecasting and predict for future 30 days"
      ],
      "metadata": {
        "id": "iLK66AgKiGF9"
      }
    },
    {
      "cell_type": "code",
      "source": [
        "x_input=test_data[len(test_data)-step:].reshape(1,-1)\n",
        "x_input.shape"
      ],
      "metadata": {
        "colab": {
          "base_uri": "https://localhost:8080/"
        },
        "id": "VEvmJALetd5-",
        "outputId": "a555efb1-a180-4d50-9963-406445fb17f4"
      },
      "execution_count": null,
      "outputs": [
        {
          "output_type": "execute_result",
          "data": {
            "text/plain": [
              "(1, 150)"
            ]
          },
          "metadata": {},
          "execution_count": 33
        }
      ]
    },
    {
      "cell_type": "code",
      "source": [
        "r_input=list(x_input)\n",
        "r_input=r_input[0].tolist()"
      ],
      "metadata": {
        "id": "9pIziR4rtssH"
      },
      "execution_count": null,
      "outputs": []
    },
    {
      "cell_type": "code",
      "source": [
        "r_input"
      ],
      "metadata": {
        "colab": {
          "base_uri": "https://localhost:8080/"
        },
        "id": "s5n4A0sdudMd",
        "outputId": "651e4fac-5dbc-47e2-9ff2-da9e6cc285b4"
      },
      "execution_count": null,
      "outputs": [
        {
          "output_type": "execute_result",
          "data": {
            "text/plain": [
              "[0.8438834494549247,\n",
              " 0.8486401198612455,\n",
              " 0.8463227342084615,\n",
              " 0.8420844606649602,\n",
              " 0.8385779539369702,\n",
              " 0.8263203014606636,\n",
              " 0.8007074393375319,\n",
              " 0.7967130570482849,\n",
              " 0.7947311265544426,\n",
              " 0.8040615256632065,\n",
              " 0.7712526153274685,\n",
              " 0.762532083933463,\n",
              " 0.7556409695782358,\n",
              " 0.7510672408757927,\n",
              " 0.7478046254020569,\n",
              " 0.7345713148559846,\n",
              " 0.7260032038642946,\n",
              " 0.7407610906445145,\n",
              " 0.7420722038732218,\n",
              " 0.7601841769791164,\n",
              " 0.7668618283289033,\n",
              " 0.7221612885037372,\n",
              " 0.7228625805440603,\n",
              " 0.7020063888272495,\n",
              " 0.7000549331085956,\n",
              " 0.6993841158434604,\n",
              " 0.6930723479014294,\n",
              " 0.6824003142623954,\n",
              " 0.6885900900509251,\n",
              " 0.6792596909421611,\n",
              " 0.6778265855599523,\n",
              " 0.6746554874645297,\n",
              " 0.6888645491331162,\n",
              " 0.677979052488642,\n",
              " 0.6639529325239335,\n",
              " 0.687858323235414,\n",
              " 0.7126784224662834,\n",
              " 0.7136541270624234,\n",
              " 0.7063056584475016,\n",
              " 0.6680388321914938,\n",
              " 0.652823544625205,\n",
              " 0.6411148103132803,\n",
              " 0.642151510986171,\n",
              " 0.6680388321914938,\n",
              " 0.6507196219778612,\n",
              " 0.6780705233405809,\n",
              " 0.6810282049569374,\n",
              " 0.6748689039435958,\n",
              " 0.6738626780458935,\n",
              " 0.692066122003727,\n",
              " 0.7077082890545222,\n",
              " 0.7181059101377393,\n",
              " 0.6591353125672361,\n",
              " 0.6452006634544664,\n",
              " 0.6730089190768807,\n",
              " 0.6616051186223355,\n",
              " 0.649530454376281,\n",
              " 0.6249238181508516,\n",
              " 0.607086257600774,\n",
              " 0.6288572043633481,\n",
              " 0.6486156993305174,\n",
              " 0.6516648517988128,\n",
              " 0.63837054517599,\n",
              " 0.6946883949875159,\n",
              " 0.7072814095700158,\n",
              " 0.6903281292905132,\n",
              " 0.6916087677440323,\n",
              " 0.6908769544021466,\n",
              " 0.690724487473457,\n",
              " 0.6893219033928109,\n",
              " 0.6918527055246609,\n",
              " 0.7009391668527964,\n",
              " 0.7087145149522246,\n",
              " 0.7084401023964079,\n",
              " 0.6909684252540857,\n",
              " 0.6866081595570829,\n",
              " 0.7317661001683179,\n",
              " 0.7303939908628598,\n",
              " 0.7314002167605621,\n",
              " 0.7167032795307188,\n",
              " 0.7012135794086132,\n",
              " 0.6989267150573916,\n",
              " 0.7081656433142168,\n",
              " 0.7021283344543766,\n",
              " 0.7237468142882613,\n",
              " 0.7371936343661482,\n",
              " 0.7381083428855373,\n",
              " 0.7130747806492274,\n",
              " 0.6999024661799058,\n",
              " 0.6869740429648385,\n",
              " 0.691090417407587,\n",
              " 0.6991096567612695,\n",
              " 0.6800829751359857,\n",
              " 0.6817294969972604,\n",
              " 0.6763325306273672,\n",
              " 0.6689230659356947,\n",
              " 0.6886815609028641,\n",
              " 0.685053108547747,\n",
              " 0.6843212952058614,\n",
              " 0.6523661903655102,\n",
              " 0.6316624190510148,\n",
              " 0.6396511836295091,\n",
              " 0.6463288349792959,\n",
              " 0.6516039022484365,\n",
              " 0.6727040317458757,\n",
              " 0.6810586797321256,\n",
              " 0.6832540732314081,\n",
              " 0.6866691556338336,\n",
              " 0.6728259773730028,\n",
              " 0.6609952509075769,\n",
              " 0.6862727509245155,\n",
              " 0.6934687526107476,\n",
              " 0.6918221842230984,\n",
              " 0.6874619185260957,\n",
              " 0.7099951534057437,\n",
              " 0.7104830289670008,\n",
              " 0.6938651573200657,\n",
              " 0.7094158069925476,\n",
              " 0.7244786276301468,\n",
              " 0.7606111029899971,\n",
              " 0.7415539000631508,\n",
              " 0.7367361870537049,\n",
              " 0.7696365682413817,\n",
              " 0.767105812635906,\n",
              " 0.7576229000720781,\n",
              " 0.756037374287554,\n",
              " 0.7811014112990522,\n",
              " 0.783693209507653,\n",
              " 0.7750031063624614,\n",
              " 0.753140642221574,\n",
              " 0.7406696197925754,\n",
              " 0.7242346898495183,\n",
              " 0.7206976618199659,\n",
              " 0.7306379286434883,\n",
              " 0.7137151231391741,\n",
              " 0.7165813339035916,\n",
              " 0.7143249443275582,\n",
              " 0.7047201326629774,\n",
              " 0.7194780194431974,\n",
              " 0.7322234544280125,\n",
              " 0.7370411209110841,\n",
              " 0.7287474224752107,\n",
              " 0.7273753131697527,\n",
              " 0.7231675144014396,\n",
              " 0.7117941421957082,\n",
              " 0.7280461304348875,\n",
              " 0.7489938395300115,\n",
              " 0.7631723798970355,\n",
              " 0.7959812902327735,\n",
              " 0.8058299931516085]"
            ]
          },
          "metadata": {},
          "execution_count": 35
        }
      ]
    },
    {
      "cell_type": "code",
      "source": [
        "x_input.shape"
      ],
      "metadata": {
        "colab": {
          "base_uri": "https://localhost:8080/"
        },
        "id": "RQHEqFtAFhwc",
        "outputId": "be461d77-5ff2-4fdf-a4f6-168f4ecf3622"
      },
      "execution_count": null,
      "outputs": [
        {
          "output_type": "execute_result",
          "data": {
            "text/plain": [
              "(1, 150)"
            ]
          },
          "metadata": {},
          "execution_count": 36
        }
      ]
    },
    {
      "cell_type": "code",
      "source": [
        "from numpy import array\n",
        "\n",
        "lst_output=[]\n",
        "n_steps=150\n",
        "i=0\n",
        "while(i<30):\n",
        "\n",
        "    if(len(r_input)>150):\n",
        "        #print(r_input)\n",
        "        x_input=np.array(r_input[1:])\n",
        "        print(\"{} day input {}\".format(i,x_input))\n",
        "        x_input=x_input.reshape(1,-1)\n",
        "        x_input = x_input.reshape((1, n_steps, 1))\n",
        "        #print(x_input)\n",
        "        yhat = model.predict(x_input, verbose=0)\n",
        "        print(\"{} day output {}\".format(i,yhat))\n",
        "        r_input.extend(yhat[0].tolist())\n",
        "        r_input=r_input[1:]\n",
        "        #print(r_input)\n",
        "        lst_output.extend(yhat.tolist())\n",
        "        i=i+1\n",
        "    else:\n",
        "        x_input = x_input.reshape((1, n_steps,1))\n",
        "        yhat = model.predict(x_input, verbose=0)\n",
        "        print(yhat[0])\n",
        "        r_input.extend(yhat[0].tolist())\n",
        "        print(len(r_input))\n",
        "        lst_output.extend(yhat.tolist())\n",
        "        i=i+1\n",
        "\n",
        "\n",
        "print(lst_output)"
      ],
      "metadata": {
        "colab": {
          "base_uri": "https://localhost:8080/"
        },
        "id": "_-FeRG5uuhlg",
        "outputId": "e0ef2bd1-2c38-45be-ca34-81844756cd86"
      },
      "execution_count": null,
      "outputs": [
        {
          "output_type": "stream",
          "name": "stdout",
          "text": [
            "[0.80562764]\n",
            "151\n",
            "1 day input [0.84864012 0.84632273 0.84208446 0.83857795 0.8263203  0.80070744\n",
            " 0.79671306 0.79473113 0.80406153 0.77125262 0.76253208 0.75564097\n",
            " 0.75106724 0.74780463 0.73457131 0.7260032  0.74076109 0.7420722\n",
            " 0.76018418 0.76686183 0.72216129 0.72286258 0.70200639 0.70005493\n",
            " 0.69938412 0.69307235 0.68240031 0.68859009 0.67925969 0.67782659\n",
            " 0.67465549 0.68886455 0.67797905 0.66395293 0.68785832 0.71267842\n",
            " 0.71365413 0.70630566 0.66803883 0.65282354 0.64111481 0.64215151\n",
            " 0.66803883 0.65071962 0.67807052 0.6810282  0.6748689  0.67386268\n",
            " 0.69206612 0.70770829 0.71810591 0.65913531 0.64520066 0.67300892\n",
            " 0.66160512 0.64953045 0.62492382 0.60708626 0.6288572  0.6486157\n",
            " 0.65166485 0.63837055 0.69468839 0.70728141 0.69032813 0.69160877\n",
            " 0.69087695 0.69072449 0.6893219  0.69185271 0.70093917 0.70871451\n",
            " 0.7084401  0.69096843 0.68660816 0.7317661  0.73039399 0.73140022\n",
            " 0.71670328 0.70121358 0.69892672 0.70816564 0.70212833 0.72374681\n",
            " 0.73719363 0.73810834 0.71307478 0.69990247 0.68697404 0.69109042\n",
            " 0.69910966 0.68008298 0.6817295  0.67633253 0.66892307 0.68868156\n",
            " 0.68505311 0.6843213  0.65236619 0.63166242 0.63965118 0.64632883\n",
            " 0.6516039  0.67270403 0.68105868 0.68325407 0.68666916 0.67282598\n",
            " 0.66099525 0.68627275 0.69346875 0.69182218 0.68746192 0.70999515\n",
            " 0.71048303 0.69386516 0.70941581 0.72447863 0.7606111  0.7415539\n",
            " 0.73673619 0.76963657 0.76710581 0.7576229  0.75603737 0.78110141\n",
            " 0.78369321 0.77500311 0.75314064 0.74066962 0.72423469 0.72069766\n",
            " 0.73063793 0.71371512 0.71658133 0.71432494 0.70472013 0.71947802\n",
            " 0.73222345 0.73704112 0.72874742 0.72737531 0.72316751 0.71179414\n",
            " 0.72804613 0.74899384 0.76317238 0.79598129 0.80582999 0.80562764]\n",
            "1 day output [[0.80599463]]\n",
            "2 day input [0.84632273 0.84208446 0.83857795 0.8263203  0.80070744 0.79671306\n",
            " 0.79473113 0.80406153 0.77125262 0.76253208 0.75564097 0.75106724\n",
            " 0.74780463 0.73457131 0.7260032  0.74076109 0.7420722  0.76018418\n",
            " 0.76686183 0.72216129 0.72286258 0.70200639 0.70005493 0.69938412\n",
            " 0.69307235 0.68240031 0.68859009 0.67925969 0.67782659 0.67465549\n",
            " 0.68886455 0.67797905 0.66395293 0.68785832 0.71267842 0.71365413\n",
            " 0.70630566 0.66803883 0.65282354 0.64111481 0.64215151 0.66803883\n",
            " 0.65071962 0.67807052 0.6810282  0.6748689  0.67386268 0.69206612\n",
            " 0.70770829 0.71810591 0.65913531 0.64520066 0.67300892 0.66160512\n",
            " 0.64953045 0.62492382 0.60708626 0.6288572  0.6486157  0.65166485\n",
            " 0.63837055 0.69468839 0.70728141 0.69032813 0.69160877 0.69087695\n",
            " 0.69072449 0.6893219  0.69185271 0.70093917 0.70871451 0.7084401\n",
            " 0.69096843 0.68660816 0.7317661  0.73039399 0.73140022 0.71670328\n",
            " 0.70121358 0.69892672 0.70816564 0.70212833 0.72374681 0.73719363\n",
            " 0.73810834 0.71307478 0.69990247 0.68697404 0.69109042 0.69910966\n",
            " 0.68008298 0.6817295  0.67633253 0.66892307 0.68868156 0.68505311\n",
            " 0.6843213  0.65236619 0.63166242 0.63965118 0.64632883 0.6516039\n",
            " 0.67270403 0.68105868 0.68325407 0.68666916 0.67282598 0.66099525\n",
            " 0.68627275 0.69346875 0.69182218 0.68746192 0.70999515 0.71048303\n",
            " 0.69386516 0.70941581 0.72447863 0.7606111  0.7415539  0.73673619\n",
            " 0.76963657 0.76710581 0.7576229  0.75603737 0.78110141 0.78369321\n",
            " 0.77500311 0.75314064 0.74066962 0.72423469 0.72069766 0.73063793\n",
            " 0.71371512 0.71658133 0.71432494 0.70472013 0.71947802 0.73222345\n",
            " 0.73704112 0.72874742 0.72737531 0.72316751 0.71179414 0.72804613\n",
            " 0.74899384 0.76317238 0.79598129 0.80582999 0.80562764 0.80599463]\n",
            "2 day output [[0.80734307]]\n",
            "3 day input [0.84208446 0.83857795 0.8263203  0.80070744 0.79671306 0.79473113\n",
            " 0.80406153 0.77125262 0.76253208 0.75564097 0.75106724 0.74780463\n",
            " 0.73457131 0.7260032  0.74076109 0.7420722  0.76018418 0.76686183\n",
            " 0.72216129 0.72286258 0.70200639 0.70005493 0.69938412 0.69307235\n",
            " 0.68240031 0.68859009 0.67925969 0.67782659 0.67465549 0.68886455\n",
            " 0.67797905 0.66395293 0.68785832 0.71267842 0.71365413 0.70630566\n",
            " 0.66803883 0.65282354 0.64111481 0.64215151 0.66803883 0.65071962\n",
            " 0.67807052 0.6810282  0.6748689  0.67386268 0.69206612 0.70770829\n",
            " 0.71810591 0.65913531 0.64520066 0.67300892 0.66160512 0.64953045\n",
            " 0.62492382 0.60708626 0.6288572  0.6486157  0.65166485 0.63837055\n",
            " 0.69468839 0.70728141 0.69032813 0.69160877 0.69087695 0.69072449\n",
            " 0.6893219  0.69185271 0.70093917 0.70871451 0.7084401  0.69096843\n",
            " 0.68660816 0.7317661  0.73039399 0.73140022 0.71670328 0.70121358\n",
            " 0.69892672 0.70816564 0.70212833 0.72374681 0.73719363 0.73810834\n",
            " 0.71307478 0.69990247 0.68697404 0.69109042 0.69910966 0.68008298\n",
            " 0.6817295  0.67633253 0.66892307 0.68868156 0.68505311 0.6843213\n",
            " 0.65236619 0.63166242 0.63965118 0.64632883 0.6516039  0.67270403\n",
            " 0.68105868 0.68325407 0.68666916 0.67282598 0.66099525 0.68627275\n",
            " 0.69346875 0.69182218 0.68746192 0.70999515 0.71048303 0.69386516\n",
            " 0.70941581 0.72447863 0.7606111  0.7415539  0.73673619 0.76963657\n",
            " 0.76710581 0.7576229  0.75603737 0.78110141 0.78369321 0.77500311\n",
            " 0.75314064 0.74066962 0.72423469 0.72069766 0.73063793 0.71371512\n",
            " 0.71658133 0.71432494 0.70472013 0.71947802 0.73222345 0.73704112\n",
            " 0.72874742 0.72737531 0.72316751 0.71179414 0.72804613 0.74899384\n",
            " 0.76317238 0.79598129 0.80582999 0.80562764 0.80599463 0.80734307]\n",
            "3 day output [[0.80982447]]\n",
            "4 day input [0.83857795 0.8263203  0.80070744 0.79671306 0.79473113 0.80406153\n",
            " 0.77125262 0.76253208 0.75564097 0.75106724 0.74780463 0.73457131\n",
            " 0.7260032  0.74076109 0.7420722  0.76018418 0.76686183 0.72216129\n",
            " 0.72286258 0.70200639 0.70005493 0.69938412 0.69307235 0.68240031\n",
            " 0.68859009 0.67925969 0.67782659 0.67465549 0.68886455 0.67797905\n",
            " 0.66395293 0.68785832 0.71267842 0.71365413 0.70630566 0.66803883\n",
            " 0.65282354 0.64111481 0.64215151 0.66803883 0.65071962 0.67807052\n",
            " 0.6810282  0.6748689  0.67386268 0.69206612 0.70770829 0.71810591\n",
            " 0.65913531 0.64520066 0.67300892 0.66160512 0.64953045 0.62492382\n",
            " 0.60708626 0.6288572  0.6486157  0.65166485 0.63837055 0.69468839\n",
            " 0.70728141 0.69032813 0.69160877 0.69087695 0.69072449 0.6893219\n",
            " 0.69185271 0.70093917 0.70871451 0.7084401  0.69096843 0.68660816\n",
            " 0.7317661  0.73039399 0.73140022 0.71670328 0.70121358 0.69892672\n",
            " 0.70816564 0.70212833 0.72374681 0.73719363 0.73810834 0.71307478\n",
            " 0.69990247 0.68697404 0.69109042 0.69910966 0.68008298 0.6817295\n",
            " 0.67633253 0.66892307 0.68868156 0.68505311 0.6843213  0.65236619\n",
            " 0.63166242 0.63965118 0.64632883 0.6516039  0.67270403 0.68105868\n",
            " 0.68325407 0.68666916 0.67282598 0.66099525 0.68627275 0.69346875\n",
            " 0.69182218 0.68746192 0.70999515 0.71048303 0.69386516 0.70941581\n",
            " 0.72447863 0.7606111  0.7415539  0.73673619 0.76963657 0.76710581\n",
            " 0.7576229  0.75603737 0.78110141 0.78369321 0.77500311 0.75314064\n",
            " 0.74066962 0.72423469 0.72069766 0.73063793 0.71371512 0.71658133\n",
            " 0.71432494 0.70472013 0.71947802 0.73222345 0.73704112 0.72874742\n",
            " 0.72737531 0.72316751 0.71179414 0.72804613 0.74899384 0.76317238\n",
            " 0.79598129 0.80582999 0.80562764 0.80599463 0.80734307 0.80982447]\n",
            "4 day output [[0.81327903]]\n",
            "5 day input [0.8263203  0.80070744 0.79671306 0.79473113 0.80406153 0.77125262\n",
            " 0.76253208 0.75564097 0.75106724 0.74780463 0.73457131 0.7260032\n",
            " 0.74076109 0.7420722  0.76018418 0.76686183 0.72216129 0.72286258\n",
            " 0.70200639 0.70005493 0.69938412 0.69307235 0.68240031 0.68859009\n",
            " 0.67925969 0.67782659 0.67465549 0.68886455 0.67797905 0.66395293\n",
            " 0.68785832 0.71267842 0.71365413 0.70630566 0.66803883 0.65282354\n",
            " 0.64111481 0.64215151 0.66803883 0.65071962 0.67807052 0.6810282\n",
            " 0.6748689  0.67386268 0.69206612 0.70770829 0.71810591 0.65913531\n",
            " 0.64520066 0.67300892 0.66160512 0.64953045 0.62492382 0.60708626\n",
            " 0.6288572  0.6486157  0.65166485 0.63837055 0.69468839 0.70728141\n",
            " 0.69032813 0.69160877 0.69087695 0.69072449 0.6893219  0.69185271\n",
            " 0.70093917 0.70871451 0.7084401  0.69096843 0.68660816 0.7317661\n",
            " 0.73039399 0.73140022 0.71670328 0.70121358 0.69892672 0.70816564\n",
            " 0.70212833 0.72374681 0.73719363 0.73810834 0.71307478 0.69990247\n",
            " 0.68697404 0.69109042 0.69910966 0.68008298 0.6817295  0.67633253\n",
            " 0.66892307 0.68868156 0.68505311 0.6843213  0.65236619 0.63166242\n",
            " 0.63965118 0.64632883 0.6516039  0.67270403 0.68105868 0.68325407\n",
            " 0.68666916 0.67282598 0.66099525 0.68627275 0.69346875 0.69182218\n",
            " 0.68746192 0.70999515 0.71048303 0.69386516 0.70941581 0.72447863\n",
            " 0.7606111  0.7415539  0.73673619 0.76963657 0.76710581 0.7576229\n",
            " 0.75603737 0.78110141 0.78369321 0.77500311 0.75314064 0.74066962\n",
            " 0.72423469 0.72069766 0.73063793 0.71371512 0.71658133 0.71432494\n",
            " 0.70472013 0.71947802 0.73222345 0.73704112 0.72874742 0.72737531\n",
            " 0.72316751 0.71179414 0.72804613 0.74899384 0.76317238 0.79598129\n",
            " 0.80582999 0.80562764 0.80599463 0.80734307 0.80982447 0.81327903]\n",
            "5 day output [[0.8173642]]\n",
            "6 day input [0.80070744 0.79671306 0.79473113 0.80406153 0.77125262 0.76253208\n",
            " 0.75564097 0.75106724 0.74780463 0.73457131 0.7260032  0.74076109\n",
            " 0.7420722  0.76018418 0.76686183 0.72216129 0.72286258 0.70200639\n",
            " 0.70005493 0.69938412 0.69307235 0.68240031 0.68859009 0.67925969\n",
            " 0.67782659 0.67465549 0.68886455 0.67797905 0.66395293 0.68785832\n",
            " 0.71267842 0.71365413 0.70630566 0.66803883 0.65282354 0.64111481\n",
            " 0.64215151 0.66803883 0.65071962 0.67807052 0.6810282  0.6748689\n",
            " 0.67386268 0.69206612 0.70770829 0.71810591 0.65913531 0.64520066\n",
            " 0.67300892 0.66160512 0.64953045 0.62492382 0.60708626 0.6288572\n",
            " 0.6486157  0.65166485 0.63837055 0.69468839 0.70728141 0.69032813\n",
            " 0.69160877 0.69087695 0.69072449 0.6893219  0.69185271 0.70093917\n",
            " 0.70871451 0.7084401  0.69096843 0.68660816 0.7317661  0.73039399\n",
            " 0.73140022 0.71670328 0.70121358 0.69892672 0.70816564 0.70212833\n",
            " 0.72374681 0.73719363 0.73810834 0.71307478 0.69990247 0.68697404\n",
            " 0.69109042 0.69910966 0.68008298 0.6817295  0.67633253 0.66892307\n",
            " 0.68868156 0.68505311 0.6843213  0.65236619 0.63166242 0.63965118\n",
            " 0.64632883 0.6516039  0.67270403 0.68105868 0.68325407 0.68666916\n",
            " 0.67282598 0.66099525 0.68627275 0.69346875 0.69182218 0.68746192\n",
            " 0.70999515 0.71048303 0.69386516 0.70941581 0.72447863 0.7606111\n",
            " 0.7415539  0.73673619 0.76963657 0.76710581 0.7576229  0.75603737\n",
            " 0.78110141 0.78369321 0.77500311 0.75314064 0.74066962 0.72423469\n",
            " 0.72069766 0.73063793 0.71371512 0.71658133 0.71432494 0.70472013\n",
            " 0.71947802 0.73222345 0.73704112 0.72874742 0.72737531 0.72316751\n",
            " 0.71179414 0.72804613 0.74899384 0.76317238 0.79598129 0.80582999\n",
            " 0.80562764 0.80599463 0.80734307 0.80982447 0.81327903 0.81736422]\n",
            "6 day output [[0.8217463]]\n",
            "7 day input [0.79671306 0.79473113 0.80406153 0.77125262 0.76253208 0.75564097\n",
            " 0.75106724 0.74780463 0.73457131 0.7260032  0.74076109 0.7420722\n",
            " 0.76018418 0.76686183 0.72216129 0.72286258 0.70200639 0.70005493\n",
            " 0.69938412 0.69307235 0.68240031 0.68859009 0.67925969 0.67782659\n",
            " 0.67465549 0.68886455 0.67797905 0.66395293 0.68785832 0.71267842\n",
            " 0.71365413 0.70630566 0.66803883 0.65282354 0.64111481 0.64215151\n",
            " 0.66803883 0.65071962 0.67807052 0.6810282  0.6748689  0.67386268\n",
            " 0.69206612 0.70770829 0.71810591 0.65913531 0.64520066 0.67300892\n",
            " 0.66160512 0.64953045 0.62492382 0.60708626 0.6288572  0.6486157\n",
            " 0.65166485 0.63837055 0.69468839 0.70728141 0.69032813 0.69160877\n",
            " 0.69087695 0.69072449 0.6893219  0.69185271 0.70093917 0.70871451\n",
            " 0.7084401  0.69096843 0.68660816 0.7317661  0.73039399 0.73140022\n",
            " 0.71670328 0.70121358 0.69892672 0.70816564 0.70212833 0.72374681\n",
            " 0.73719363 0.73810834 0.71307478 0.69990247 0.68697404 0.69109042\n",
            " 0.69910966 0.68008298 0.6817295  0.67633253 0.66892307 0.68868156\n",
            " 0.68505311 0.6843213  0.65236619 0.63166242 0.63965118 0.64632883\n",
            " 0.6516039  0.67270403 0.68105868 0.68325407 0.68666916 0.67282598\n",
            " 0.66099525 0.68627275 0.69346875 0.69182218 0.68746192 0.70999515\n",
            " 0.71048303 0.69386516 0.70941581 0.72447863 0.7606111  0.7415539\n",
            " 0.73673619 0.76963657 0.76710581 0.7576229  0.75603737 0.78110141\n",
            " 0.78369321 0.77500311 0.75314064 0.74066962 0.72423469 0.72069766\n",
            " 0.73063793 0.71371512 0.71658133 0.71432494 0.70472013 0.71947802\n",
            " 0.73222345 0.73704112 0.72874742 0.72737531 0.72316751 0.71179414\n",
            " 0.72804613 0.74899384 0.76317238 0.79598129 0.80582999 0.80562764\n",
            " 0.80599463 0.80734307 0.80982447 0.81327903 0.81736422 0.82174629]\n",
            "7 day output [[0.826174]]\n",
            "8 day input [0.79473113 0.80406153 0.77125262 0.76253208 0.75564097 0.75106724\n",
            " 0.74780463 0.73457131 0.7260032  0.74076109 0.7420722  0.76018418\n",
            " 0.76686183 0.72216129 0.72286258 0.70200639 0.70005493 0.69938412\n",
            " 0.69307235 0.68240031 0.68859009 0.67925969 0.67782659 0.67465549\n",
            " 0.68886455 0.67797905 0.66395293 0.68785832 0.71267842 0.71365413\n",
            " 0.70630566 0.66803883 0.65282354 0.64111481 0.64215151 0.66803883\n",
            " 0.65071962 0.67807052 0.6810282  0.6748689  0.67386268 0.69206612\n",
            " 0.70770829 0.71810591 0.65913531 0.64520066 0.67300892 0.66160512\n",
            " 0.64953045 0.62492382 0.60708626 0.6288572  0.6486157  0.65166485\n",
            " 0.63837055 0.69468839 0.70728141 0.69032813 0.69160877 0.69087695\n",
            " 0.69072449 0.6893219  0.69185271 0.70093917 0.70871451 0.7084401\n",
            " 0.69096843 0.68660816 0.7317661  0.73039399 0.73140022 0.71670328\n",
            " 0.70121358 0.69892672 0.70816564 0.70212833 0.72374681 0.73719363\n",
            " 0.73810834 0.71307478 0.69990247 0.68697404 0.69109042 0.69910966\n",
            " 0.68008298 0.6817295  0.67633253 0.66892307 0.68868156 0.68505311\n",
            " 0.6843213  0.65236619 0.63166242 0.63965118 0.64632883 0.6516039\n",
            " 0.67270403 0.68105868 0.68325407 0.68666916 0.67282598 0.66099525\n",
            " 0.68627275 0.69346875 0.69182218 0.68746192 0.70999515 0.71048303\n",
            " 0.69386516 0.70941581 0.72447863 0.7606111  0.7415539  0.73673619\n",
            " 0.76963657 0.76710581 0.7576229  0.75603737 0.78110141 0.78369321\n",
            " 0.77500311 0.75314064 0.74066962 0.72423469 0.72069766 0.73063793\n",
            " 0.71371512 0.71658133 0.71432494 0.70472013 0.71947802 0.73222345\n",
            " 0.73704112 0.72874742 0.72737531 0.72316751 0.71179414 0.72804613\n",
            " 0.74899384 0.76317238 0.79598129 0.80582999 0.80562764 0.80599463\n",
            " 0.80734307 0.80982447 0.81327903 0.81736422 0.82174629 0.82617402]\n",
            "8 day output [[0.8304925]]\n",
            "9 day input [0.80406153 0.77125262 0.76253208 0.75564097 0.75106724 0.74780463\n",
            " 0.73457131 0.7260032  0.74076109 0.7420722  0.76018418 0.76686183\n",
            " 0.72216129 0.72286258 0.70200639 0.70005493 0.69938412 0.69307235\n",
            " 0.68240031 0.68859009 0.67925969 0.67782659 0.67465549 0.68886455\n",
            " 0.67797905 0.66395293 0.68785832 0.71267842 0.71365413 0.70630566\n",
            " 0.66803883 0.65282354 0.64111481 0.64215151 0.66803883 0.65071962\n",
            " 0.67807052 0.6810282  0.6748689  0.67386268 0.69206612 0.70770829\n",
            " 0.71810591 0.65913531 0.64520066 0.67300892 0.66160512 0.64953045\n",
            " 0.62492382 0.60708626 0.6288572  0.6486157  0.65166485 0.63837055\n",
            " 0.69468839 0.70728141 0.69032813 0.69160877 0.69087695 0.69072449\n",
            " 0.6893219  0.69185271 0.70093917 0.70871451 0.7084401  0.69096843\n",
            " 0.68660816 0.7317661  0.73039399 0.73140022 0.71670328 0.70121358\n",
            " 0.69892672 0.70816564 0.70212833 0.72374681 0.73719363 0.73810834\n",
            " 0.71307478 0.69990247 0.68697404 0.69109042 0.69910966 0.68008298\n",
            " 0.6817295  0.67633253 0.66892307 0.68868156 0.68505311 0.6843213\n",
            " 0.65236619 0.63166242 0.63965118 0.64632883 0.6516039  0.67270403\n",
            " 0.68105868 0.68325407 0.68666916 0.67282598 0.66099525 0.68627275\n",
            " 0.69346875 0.69182218 0.68746192 0.70999515 0.71048303 0.69386516\n",
            " 0.70941581 0.72447863 0.7606111  0.7415539  0.73673619 0.76963657\n",
            " 0.76710581 0.7576229  0.75603737 0.78110141 0.78369321 0.77500311\n",
            " 0.75314064 0.74066962 0.72423469 0.72069766 0.73063793 0.71371512\n",
            " 0.71658133 0.71432494 0.70472013 0.71947802 0.73222345 0.73704112\n",
            " 0.72874742 0.72737531 0.72316751 0.71179414 0.72804613 0.74899384\n",
            " 0.76317238 0.79598129 0.80582999 0.80562764 0.80599463 0.80734307\n",
            " 0.80982447 0.81327903 0.81736422 0.82174629 0.82617402 0.8304925 ]\n",
            "9 day output [[0.83462685]]\n",
            "10 day input [0.77125262 0.76253208 0.75564097 0.75106724 0.74780463 0.73457131\n",
            " 0.7260032  0.74076109 0.7420722  0.76018418 0.76686183 0.72216129\n",
            " 0.72286258 0.70200639 0.70005493 0.69938412 0.69307235 0.68240031\n",
            " 0.68859009 0.67925969 0.67782659 0.67465549 0.68886455 0.67797905\n",
            " 0.66395293 0.68785832 0.71267842 0.71365413 0.70630566 0.66803883\n",
            " 0.65282354 0.64111481 0.64215151 0.66803883 0.65071962 0.67807052\n",
            " 0.6810282  0.6748689  0.67386268 0.69206612 0.70770829 0.71810591\n",
            " 0.65913531 0.64520066 0.67300892 0.66160512 0.64953045 0.62492382\n",
            " 0.60708626 0.6288572  0.6486157  0.65166485 0.63837055 0.69468839\n",
            " 0.70728141 0.69032813 0.69160877 0.69087695 0.69072449 0.6893219\n",
            " 0.69185271 0.70093917 0.70871451 0.7084401  0.69096843 0.68660816\n",
            " 0.7317661  0.73039399 0.73140022 0.71670328 0.70121358 0.69892672\n",
            " 0.70816564 0.70212833 0.72374681 0.73719363 0.73810834 0.71307478\n",
            " 0.69990247 0.68697404 0.69109042 0.69910966 0.68008298 0.6817295\n",
            " 0.67633253 0.66892307 0.68868156 0.68505311 0.6843213  0.65236619\n",
            " 0.63166242 0.63965118 0.64632883 0.6516039  0.67270403 0.68105868\n",
            " 0.68325407 0.68666916 0.67282598 0.66099525 0.68627275 0.69346875\n",
            " 0.69182218 0.68746192 0.70999515 0.71048303 0.69386516 0.70941581\n",
            " 0.72447863 0.7606111  0.7415539  0.73673619 0.76963657 0.76710581\n",
            " 0.7576229  0.75603737 0.78110141 0.78369321 0.77500311 0.75314064\n",
            " 0.74066962 0.72423469 0.72069766 0.73063793 0.71371512 0.71658133\n",
            " 0.71432494 0.70472013 0.71947802 0.73222345 0.73704112 0.72874742\n",
            " 0.72737531 0.72316751 0.71179414 0.72804613 0.74899384 0.76317238\n",
            " 0.79598129 0.80582999 0.80562764 0.80599463 0.80734307 0.80982447\n",
            " 0.81327903 0.81736422 0.82174629 0.82617402 0.8304925  0.83462685]\n",
            "10 day output [[0.8385571]]\n",
            "11 day input [0.76253208 0.75564097 0.75106724 0.74780463 0.73457131 0.7260032\n",
            " 0.74076109 0.7420722  0.76018418 0.76686183 0.72216129 0.72286258\n",
            " 0.70200639 0.70005493 0.69938412 0.69307235 0.68240031 0.68859009\n",
            " 0.67925969 0.67782659 0.67465549 0.68886455 0.67797905 0.66395293\n",
            " 0.68785832 0.71267842 0.71365413 0.70630566 0.66803883 0.65282354\n",
            " 0.64111481 0.64215151 0.66803883 0.65071962 0.67807052 0.6810282\n",
            " 0.6748689  0.67386268 0.69206612 0.70770829 0.71810591 0.65913531\n",
            " 0.64520066 0.67300892 0.66160512 0.64953045 0.62492382 0.60708626\n",
            " 0.6288572  0.6486157  0.65166485 0.63837055 0.69468839 0.70728141\n",
            " 0.69032813 0.69160877 0.69087695 0.69072449 0.6893219  0.69185271\n",
            " 0.70093917 0.70871451 0.7084401  0.69096843 0.68660816 0.7317661\n",
            " 0.73039399 0.73140022 0.71670328 0.70121358 0.69892672 0.70816564\n",
            " 0.70212833 0.72374681 0.73719363 0.73810834 0.71307478 0.69990247\n",
            " 0.68697404 0.69109042 0.69910966 0.68008298 0.6817295  0.67633253\n",
            " 0.66892307 0.68868156 0.68505311 0.6843213  0.65236619 0.63166242\n",
            " 0.63965118 0.64632883 0.6516039  0.67270403 0.68105868 0.68325407\n",
            " 0.68666916 0.67282598 0.66099525 0.68627275 0.69346875 0.69182218\n",
            " 0.68746192 0.70999515 0.71048303 0.69386516 0.70941581 0.72447863\n",
            " 0.7606111  0.7415539  0.73673619 0.76963657 0.76710581 0.7576229\n",
            " 0.75603737 0.78110141 0.78369321 0.77500311 0.75314064 0.74066962\n",
            " 0.72423469 0.72069766 0.73063793 0.71371512 0.71658133 0.71432494\n",
            " 0.70472013 0.71947802 0.73222345 0.73704112 0.72874742 0.72737531\n",
            " 0.72316751 0.71179414 0.72804613 0.74899384 0.76317238 0.79598129\n",
            " 0.80582999 0.80562764 0.80599463 0.80734307 0.80982447 0.81327903\n",
            " 0.81736422 0.82174629 0.82617402 0.8304925  0.83462685 0.83855712]\n",
            "11 day output [[0.8422944]]\n",
            "12 day input [0.75564097 0.75106724 0.74780463 0.73457131 0.7260032  0.74076109\n",
            " 0.7420722  0.76018418 0.76686183 0.72216129 0.72286258 0.70200639\n",
            " 0.70005493 0.69938412 0.69307235 0.68240031 0.68859009 0.67925969\n",
            " 0.67782659 0.67465549 0.68886455 0.67797905 0.66395293 0.68785832\n",
            " 0.71267842 0.71365413 0.70630566 0.66803883 0.65282354 0.64111481\n",
            " 0.64215151 0.66803883 0.65071962 0.67807052 0.6810282  0.6748689\n",
            " 0.67386268 0.69206612 0.70770829 0.71810591 0.65913531 0.64520066\n",
            " 0.67300892 0.66160512 0.64953045 0.62492382 0.60708626 0.6288572\n",
            " 0.6486157  0.65166485 0.63837055 0.69468839 0.70728141 0.69032813\n",
            " 0.69160877 0.69087695 0.69072449 0.6893219  0.69185271 0.70093917\n",
            " 0.70871451 0.7084401  0.69096843 0.68660816 0.7317661  0.73039399\n",
            " 0.73140022 0.71670328 0.70121358 0.69892672 0.70816564 0.70212833\n",
            " 0.72374681 0.73719363 0.73810834 0.71307478 0.69990247 0.68697404\n",
            " 0.69109042 0.69910966 0.68008298 0.6817295  0.67633253 0.66892307\n",
            " 0.68868156 0.68505311 0.6843213  0.65236619 0.63166242 0.63965118\n",
            " 0.64632883 0.6516039  0.67270403 0.68105868 0.68325407 0.68666916\n",
            " 0.67282598 0.66099525 0.68627275 0.69346875 0.69182218 0.68746192\n",
            " 0.70999515 0.71048303 0.69386516 0.70941581 0.72447863 0.7606111\n",
            " 0.7415539  0.73673619 0.76963657 0.76710581 0.7576229  0.75603737\n",
            " 0.78110141 0.78369321 0.77500311 0.75314064 0.74066962 0.72423469\n",
            " 0.72069766 0.73063793 0.71371512 0.71658133 0.71432494 0.70472013\n",
            " 0.71947802 0.73222345 0.73704112 0.72874742 0.72737531 0.72316751\n",
            " 0.71179414 0.72804613 0.74899384 0.76317238 0.79598129 0.80582999\n",
            " 0.80562764 0.80599463 0.80734307 0.80982447 0.81327903 0.81736422\n",
            " 0.82174629 0.82617402 0.8304925  0.83462685 0.83855712 0.84229439]\n",
            "12 day output [[0.8458631]]\n",
            "13 day input [0.75106724 0.74780463 0.73457131 0.7260032  0.74076109 0.7420722\n",
            " 0.76018418 0.76686183 0.72216129 0.72286258 0.70200639 0.70005493\n",
            " 0.69938412 0.69307235 0.68240031 0.68859009 0.67925969 0.67782659\n",
            " 0.67465549 0.68886455 0.67797905 0.66395293 0.68785832 0.71267842\n",
            " 0.71365413 0.70630566 0.66803883 0.65282354 0.64111481 0.64215151\n",
            " 0.66803883 0.65071962 0.67807052 0.6810282  0.6748689  0.67386268\n",
            " 0.69206612 0.70770829 0.71810591 0.65913531 0.64520066 0.67300892\n",
            " 0.66160512 0.64953045 0.62492382 0.60708626 0.6288572  0.6486157\n",
            " 0.65166485 0.63837055 0.69468839 0.70728141 0.69032813 0.69160877\n",
            " 0.69087695 0.69072449 0.6893219  0.69185271 0.70093917 0.70871451\n",
            " 0.7084401  0.69096843 0.68660816 0.7317661  0.73039399 0.73140022\n",
            " 0.71670328 0.70121358 0.69892672 0.70816564 0.70212833 0.72374681\n",
            " 0.73719363 0.73810834 0.71307478 0.69990247 0.68697404 0.69109042\n",
            " 0.69910966 0.68008298 0.6817295  0.67633253 0.66892307 0.68868156\n",
            " 0.68505311 0.6843213  0.65236619 0.63166242 0.63965118 0.64632883\n",
            " 0.6516039  0.67270403 0.68105868 0.68325407 0.68666916 0.67282598\n",
            " 0.66099525 0.68627275 0.69346875 0.69182218 0.68746192 0.70999515\n",
            " 0.71048303 0.69386516 0.70941581 0.72447863 0.7606111  0.7415539\n",
            " 0.73673619 0.76963657 0.76710581 0.7576229  0.75603737 0.78110141\n",
            " 0.78369321 0.77500311 0.75314064 0.74066962 0.72423469 0.72069766\n",
            " 0.73063793 0.71371512 0.71658133 0.71432494 0.70472013 0.71947802\n",
            " 0.73222345 0.73704112 0.72874742 0.72737531 0.72316751 0.71179414\n",
            " 0.72804613 0.74899384 0.76317238 0.79598129 0.80582999 0.80562764\n",
            " 0.80599463 0.80734307 0.80982447 0.81327903 0.81736422 0.82174629\n",
            " 0.82617402 0.8304925  0.83462685 0.83855712 0.84229439 0.8458631 ]\n",
            "13 day output [[0.84928995]]\n",
            "14 day input [0.74780463 0.73457131 0.7260032  0.74076109 0.7420722  0.76018418\n",
            " 0.76686183 0.72216129 0.72286258 0.70200639 0.70005493 0.69938412\n",
            " 0.69307235 0.68240031 0.68859009 0.67925969 0.67782659 0.67465549\n",
            " 0.68886455 0.67797905 0.66395293 0.68785832 0.71267842 0.71365413\n",
            " 0.70630566 0.66803883 0.65282354 0.64111481 0.64215151 0.66803883\n",
            " 0.65071962 0.67807052 0.6810282  0.6748689  0.67386268 0.69206612\n",
            " 0.70770829 0.71810591 0.65913531 0.64520066 0.67300892 0.66160512\n",
            " 0.64953045 0.62492382 0.60708626 0.6288572  0.6486157  0.65166485\n",
            " 0.63837055 0.69468839 0.70728141 0.69032813 0.69160877 0.69087695\n",
            " 0.69072449 0.6893219  0.69185271 0.70093917 0.70871451 0.7084401\n",
            " 0.69096843 0.68660816 0.7317661  0.73039399 0.73140022 0.71670328\n",
            " 0.70121358 0.69892672 0.70816564 0.70212833 0.72374681 0.73719363\n",
            " 0.73810834 0.71307478 0.69990247 0.68697404 0.69109042 0.69910966\n",
            " 0.68008298 0.6817295  0.67633253 0.66892307 0.68868156 0.68505311\n",
            " 0.6843213  0.65236619 0.63166242 0.63965118 0.64632883 0.6516039\n",
            " 0.67270403 0.68105868 0.68325407 0.68666916 0.67282598 0.66099525\n",
            " 0.68627275 0.69346875 0.69182218 0.68746192 0.70999515 0.71048303\n",
            " 0.69386516 0.70941581 0.72447863 0.7606111  0.7415539  0.73673619\n",
            " 0.76963657 0.76710581 0.7576229  0.75603737 0.78110141 0.78369321\n",
            " 0.77500311 0.75314064 0.74066962 0.72423469 0.72069766 0.73063793\n",
            " 0.71371512 0.71658133 0.71432494 0.70472013 0.71947802 0.73222345\n",
            " 0.73704112 0.72874742 0.72737531 0.72316751 0.71179414 0.72804613\n",
            " 0.74899384 0.76317238 0.79598129 0.80582999 0.80562764 0.80599463\n",
            " 0.80734307 0.80982447 0.81327903 0.81736422 0.82174629 0.82617402\n",
            " 0.8304925  0.83462685 0.83855712 0.84229439 0.8458631  0.84928995]\n",
            "14 day output [[0.8525984]]\n",
            "15 day input [0.73457131 0.7260032  0.74076109 0.7420722  0.76018418 0.76686183\n",
            " 0.72216129 0.72286258 0.70200639 0.70005493 0.69938412 0.69307235\n",
            " 0.68240031 0.68859009 0.67925969 0.67782659 0.67465549 0.68886455\n",
            " 0.67797905 0.66395293 0.68785832 0.71267842 0.71365413 0.70630566\n",
            " 0.66803883 0.65282354 0.64111481 0.64215151 0.66803883 0.65071962\n",
            " 0.67807052 0.6810282  0.6748689  0.67386268 0.69206612 0.70770829\n",
            " 0.71810591 0.65913531 0.64520066 0.67300892 0.66160512 0.64953045\n",
            " 0.62492382 0.60708626 0.6288572  0.6486157  0.65166485 0.63837055\n",
            " 0.69468839 0.70728141 0.69032813 0.69160877 0.69087695 0.69072449\n",
            " 0.6893219  0.69185271 0.70093917 0.70871451 0.7084401  0.69096843\n",
            " 0.68660816 0.7317661  0.73039399 0.73140022 0.71670328 0.70121358\n",
            " 0.69892672 0.70816564 0.70212833 0.72374681 0.73719363 0.73810834\n",
            " 0.71307478 0.69990247 0.68697404 0.69109042 0.69910966 0.68008298\n",
            " 0.6817295  0.67633253 0.66892307 0.68868156 0.68505311 0.6843213\n",
            " 0.65236619 0.63166242 0.63965118 0.64632883 0.6516039  0.67270403\n",
            " 0.68105868 0.68325407 0.68666916 0.67282598 0.66099525 0.68627275\n",
            " 0.69346875 0.69182218 0.68746192 0.70999515 0.71048303 0.69386516\n",
            " 0.70941581 0.72447863 0.7606111  0.7415539  0.73673619 0.76963657\n",
            " 0.76710581 0.7576229  0.75603737 0.78110141 0.78369321 0.77500311\n",
            " 0.75314064 0.74066962 0.72423469 0.72069766 0.73063793 0.71371512\n",
            " 0.71658133 0.71432494 0.70472013 0.71947802 0.73222345 0.73704112\n",
            " 0.72874742 0.72737531 0.72316751 0.71179414 0.72804613 0.74899384\n",
            " 0.76317238 0.79598129 0.80582999 0.80562764 0.80599463 0.80734307\n",
            " 0.80982447 0.81327903 0.81736422 0.82174629 0.82617402 0.8304925\n",
            " 0.83462685 0.83855712 0.84229439 0.8458631  0.84928995 0.85259843]\n",
            "15 day output [[0.855807]]\n",
            "16 day input [0.7260032  0.74076109 0.7420722  0.76018418 0.76686183 0.72216129\n",
            " 0.72286258 0.70200639 0.70005493 0.69938412 0.69307235 0.68240031\n",
            " 0.68859009 0.67925969 0.67782659 0.67465549 0.68886455 0.67797905\n",
            " 0.66395293 0.68785832 0.71267842 0.71365413 0.70630566 0.66803883\n",
            " 0.65282354 0.64111481 0.64215151 0.66803883 0.65071962 0.67807052\n",
            " 0.6810282  0.6748689  0.67386268 0.69206612 0.70770829 0.71810591\n",
            " 0.65913531 0.64520066 0.67300892 0.66160512 0.64953045 0.62492382\n",
            " 0.60708626 0.6288572  0.6486157  0.65166485 0.63837055 0.69468839\n",
            " 0.70728141 0.69032813 0.69160877 0.69087695 0.69072449 0.6893219\n",
            " 0.69185271 0.70093917 0.70871451 0.7084401  0.69096843 0.68660816\n",
            " 0.7317661  0.73039399 0.73140022 0.71670328 0.70121358 0.69892672\n",
            " 0.70816564 0.70212833 0.72374681 0.73719363 0.73810834 0.71307478\n",
            " 0.69990247 0.68697404 0.69109042 0.69910966 0.68008298 0.6817295\n",
            " 0.67633253 0.66892307 0.68868156 0.68505311 0.6843213  0.65236619\n",
            " 0.63166242 0.63965118 0.64632883 0.6516039  0.67270403 0.68105868\n",
            " 0.68325407 0.68666916 0.67282598 0.66099525 0.68627275 0.69346875\n",
            " 0.69182218 0.68746192 0.70999515 0.71048303 0.69386516 0.70941581\n",
            " 0.72447863 0.7606111  0.7415539  0.73673619 0.76963657 0.76710581\n",
            " 0.7576229  0.75603737 0.78110141 0.78369321 0.77500311 0.75314064\n",
            " 0.74066962 0.72423469 0.72069766 0.73063793 0.71371512 0.71658133\n",
            " 0.71432494 0.70472013 0.71947802 0.73222345 0.73704112 0.72874742\n",
            " 0.72737531 0.72316751 0.71179414 0.72804613 0.74899384 0.76317238\n",
            " 0.79598129 0.80582999 0.80562764 0.80599463 0.80734307 0.80982447\n",
            " 0.81327903 0.81736422 0.82174629 0.82617402 0.8304925  0.83462685\n",
            " 0.83855712 0.84229439 0.8458631  0.84928995 0.85259843 0.85580701]\n",
            "16 day output [[0.8589292]]\n",
            "17 day input [0.74076109 0.7420722  0.76018418 0.76686183 0.72216129 0.72286258\n",
            " 0.70200639 0.70005493 0.69938412 0.69307235 0.68240031 0.68859009\n",
            " 0.67925969 0.67782659 0.67465549 0.68886455 0.67797905 0.66395293\n",
            " 0.68785832 0.71267842 0.71365413 0.70630566 0.66803883 0.65282354\n",
            " 0.64111481 0.64215151 0.66803883 0.65071962 0.67807052 0.6810282\n",
            " 0.6748689  0.67386268 0.69206612 0.70770829 0.71810591 0.65913531\n",
            " 0.64520066 0.67300892 0.66160512 0.64953045 0.62492382 0.60708626\n",
            " 0.6288572  0.6486157  0.65166485 0.63837055 0.69468839 0.70728141\n",
            " 0.69032813 0.69160877 0.69087695 0.69072449 0.6893219  0.69185271\n",
            " 0.70093917 0.70871451 0.7084401  0.69096843 0.68660816 0.7317661\n",
            " 0.73039399 0.73140022 0.71670328 0.70121358 0.69892672 0.70816564\n",
            " 0.70212833 0.72374681 0.73719363 0.73810834 0.71307478 0.69990247\n",
            " 0.68697404 0.69109042 0.69910966 0.68008298 0.6817295  0.67633253\n",
            " 0.66892307 0.68868156 0.68505311 0.6843213  0.65236619 0.63166242\n",
            " 0.63965118 0.64632883 0.6516039  0.67270403 0.68105868 0.68325407\n",
            " 0.68666916 0.67282598 0.66099525 0.68627275 0.69346875 0.69182218\n",
            " 0.68746192 0.70999515 0.71048303 0.69386516 0.70941581 0.72447863\n",
            " 0.7606111  0.7415539  0.73673619 0.76963657 0.76710581 0.7576229\n",
            " 0.75603737 0.78110141 0.78369321 0.77500311 0.75314064 0.74066962\n",
            " 0.72423469 0.72069766 0.73063793 0.71371512 0.71658133 0.71432494\n",
            " 0.70472013 0.71947802 0.73222345 0.73704112 0.72874742 0.72737531\n",
            " 0.72316751 0.71179414 0.72804613 0.74899384 0.76317238 0.79598129\n",
            " 0.80582999 0.80562764 0.80599463 0.80734307 0.80982447 0.81327903\n",
            " 0.81736422 0.82174629 0.82617402 0.8304925  0.83462685 0.83855712\n",
            " 0.84229439 0.8458631  0.84928995 0.85259843 0.85580701 0.85892922]\n",
            "17 day output [[0.861975]]\n",
            "18 day input [0.7420722  0.76018418 0.76686183 0.72216129 0.72286258 0.70200639\n",
            " 0.70005493 0.69938412 0.69307235 0.68240031 0.68859009 0.67925969\n",
            " 0.67782659 0.67465549 0.68886455 0.67797905 0.66395293 0.68785832\n",
            " 0.71267842 0.71365413 0.70630566 0.66803883 0.65282354 0.64111481\n",
            " 0.64215151 0.66803883 0.65071962 0.67807052 0.6810282  0.6748689\n",
            " 0.67386268 0.69206612 0.70770829 0.71810591 0.65913531 0.64520066\n",
            " 0.67300892 0.66160512 0.64953045 0.62492382 0.60708626 0.6288572\n",
            " 0.6486157  0.65166485 0.63837055 0.69468839 0.70728141 0.69032813\n",
            " 0.69160877 0.69087695 0.69072449 0.6893219  0.69185271 0.70093917\n",
            " 0.70871451 0.7084401  0.69096843 0.68660816 0.7317661  0.73039399\n",
            " 0.73140022 0.71670328 0.70121358 0.69892672 0.70816564 0.70212833\n",
            " 0.72374681 0.73719363 0.73810834 0.71307478 0.69990247 0.68697404\n",
            " 0.69109042 0.69910966 0.68008298 0.6817295  0.67633253 0.66892307\n",
            " 0.68868156 0.68505311 0.6843213  0.65236619 0.63166242 0.63965118\n",
            " 0.64632883 0.6516039  0.67270403 0.68105868 0.68325407 0.68666916\n",
            " 0.67282598 0.66099525 0.68627275 0.69346875 0.69182218 0.68746192\n",
            " 0.70999515 0.71048303 0.69386516 0.70941581 0.72447863 0.7606111\n",
            " 0.7415539  0.73673619 0.76963657 0.76710581 0.7576229  0.75603737\n",
            " 0.78110141 0.78369321 0.77500311 0.75314064 0.74066962 0.72423469\n",
            " 0.72069766 0.73063793 0.71371512 0.71658133 0.71432494 0.70472013\n",
            " 0.71947802 0.73222345 0.73704112 0.72874742 0.72737531 0.72316751\n",
            " 0.71179414 0.72804613 0.74899384 0.76317238 0.79598129 0.80582999\n",
            " 0.80562764 0.80599463 0.80734307 0.80982447 0.81327903 0.81736422\n",
            " 0.82174629 0.82617402 0.8304925  0.83462685 0.83855712 0.84229439\n",
            " 0.8458631  0.84928995 0.85259843 0.85580701 0.85892922 0.86197501]\n",
            "18 day output [[0.8649514]]\n",
            "19 day input [0.76018418 0.76686183 0.72216129 0.72286258 0.70200639 0.70005493\n",
            " 0.69938412 0.69307235 0.68240031 0.68859009 0.67925969 0.67782659\n",
            " 0.67465549 0.68886455 0.67797905 0.66395293 0.68785832 0.71267842\n",
            " 0.71365413 0.70630566 0.66803883 0.65282354 0.64111481 0.64215151\n",
            " 0.66803883 0.65071962 0.67807052 0.6810282  0.6748689  0.67386268\n",
            " 0.69206612 0.70770829 0.71810591 0.65913531 0.64520066 0.67300892\n",
            " 0.66160512 0.64953045 0.62492382 0.60708626 0.6288572  0.6486157\n",
            " 0.65166485 0.63837055 0.69468839 0.70728141 0.69032813 0.69160877\n",
            " 0.69087695 0.69072449 0.6893219  0.69185271 0.70093917 0.70871451\n",
            " 0.7084401  0.69096843 0.68660816 0.7317661  0.73039399 0.73140022\n",
            " 0.71670328 0.70121358 0.69892672 0.70816564 0.70212833 0.72374681\n",
            " 0.73719363 0.73810834 0.71307478 0.69990247 0.68697404 0.69109042\n",
            " 0.69910966 0.68008298 0.6817295  0.67633253 0.66892307 0.68868156\n",
            " 0.68505311 0.6843213  0.65236619 0.63166242 0.63965118 0.64632883\n",
            " 0.6516039  0.67270403 0.68105868 0.68325407 0.68666916 0.67282598\n",
            " 0.66099525 0.68627275 0.69346875 0.69182218 0.68746192 0.70999515\n",
            " 0.71048303 0.69386516 0.70941581 0.72447863 0.7606111  0.7415539\n",
            " 0.73673619 0.76963657 0.76710581 0.7576229  0.75603737 0.78110141\n",
            " 0.78369321 0.77500311 0.75314064 0.74066962 0.72423469 0.72069766\n",
            " 0.73063793 0.71371512 0.71658133 0.71432494 0.70472013 0.71947802\n",
            " 0.73222345 0.73704112 0.72874742 0.72737531 0.72316751 0.71179414\n",
            " 0.72804613 0.74899384 0.76317238 0.79598129 0.80582999 0.80562764\n",
            " 0.80599463 0.80734307 0.80982447 0.81327903 0.81736422 0.82174629\n",
            " 0.82617402 0.8304925  0.83462685 0.83855712 0.84229439 0.8458631\n",
            " 0.84928995 0.85259843 0.85580701 0.85892922 0.86197501 0.86495137]\n",
            "19 day output [[0.8678638]]\n",
            "20 day input [0.76686183 0.72216129 0.72286258 0.70200639 0.70005493 0.69938412\n",
            " 0.69307235 0.68240031 0.68859009 0.67925969 0.67782659 0.67465549\n",
            " 0.68886455 0.67797905 0.66395293 0.68785832 0.71267842 0.71365413\n",
            " 0.70630566 0.66803883 0.65282354 0.64111481 0.64215151 0.66803883\n",
            " 0.65071962 0.67807052 0.6810282  0.6748689  0.67386268 0.69206612\n",
            " 0.70770829 0.71810591 0.65913531 0.64520066 0.67300892 0.66160512\n",
            " 0.64953045 0.62492382 0.60708626 0.6288572  0.6486157  0.65166485\n",
            " 0.63837055 0.69468839 0.70728141 0.69032813 0.69160877 0.69087695\n",
            " 0.69072449 0.6893219  0.69185271 0.70093917 0.70871451 0.7084401\n",
            " 0.69096843 0.68660816 0.7317661  0.73039399 0.73140022 0.71670328\n",
            " 0.70121358 0.69892672 0.70816564 0.70212833 0.72374681 0.73719363\n",
            " 0.73810834 0.71307478 0.69990247 0.68697404 0.69109042 0.69910966\n",
            " 0.68008298 0.6817295  0.67633253 0.66892307 0.68868156 0.68505311\n",
            " 0.6843213  0.65236619 0.63166242 0.63965118 0.64632883 0.6516039\n",
            " 0.67270403 0.68105868 0.68325407 0.68666916 0.67282598 0.66099525\n",
            " 0.68627275 0.69346875 0.69182218 0.68746192 0.70999515 0.71048303\n",
            " 0.69386516 0.70941581 0.72447863 0.7606111  0.7415539  0.73673619\n",
            " 0.76963657 0.76710581 0.7576229  0.75603737 0.78110141 0.78369321\n",
            " 0.77500311 0.75314064 0.74066962 0.72423469 0.72069766 0.73063793\n",
            " 0.71371512 0.71658133 0.71432494 0.70472013 0.71947802 0.73222345\n",
            " 0.73704112 0.72874742 0.72737531 0.72316751 0.71179414 0.72804613\n",
            " 0.74899384 0.76317238 0.79598129 0.80582999 0.80562764 0.80599463\n",
            " 0.80734307 0.80982447 0.81327903 0.81736422 0.82174629 0.82617402\n",
            " 0.8304925  0.83462685 0.83855712 0.84229439 0.8458631  0.84928995\n",
            " 0.85259843 0.85580701 0.85892922 0.86197501 0.86495137 0.86786377]\n",
            "20 day output [[0.87071705]]\n",
            "21 day input [0.72216129 0.72286258 0.70200639 0.70005493 0.69938412 0.69307235\n",
            " 0.68240031 0.68859009 0.67925969 0.67782659 0.67465549 0.68886455\n",
            " 0.67797905 0.66395293 0.68785832 0.71267842 0.71365413 0.70630566\n",
            " 0.66803883 0.65282354 0.64111481 0.64215151 0.66803883 0.65071962\n",
            " 0.67807052 0.6810282  0.6748689  0.67386268 0.69206612 0.70770829\n",
            " 0.71810591 0.65913531 0.64520066 0.67300892 0.66160512 0.64953045\n",
            " 0.62492382 0.60708626 0.6288572  0.6486157  0.65166485 0.63837055\n",
            " 0.69468839 0.70728141 0.69032813 0.69160877 0.69087695 0.69072449\n",
            " 0.6893219  0.69185271 0.70093917 0.70871451 0.7084401  0.69096843\n",
            " 0.68660816 0.7317661  0.73039399 0.73140022 0.71670328 0.70121358\n",
            " 0.69892672 0.70816564 0.70212833 0.72374681 0.73719363 0.73810834\n",
            " 0.71307478 0.69990247 0.68697404 0.69109042 0.69910966 0.68008298\n",
            " 0.6817295  0.67633253 0.66892307 0.68868156 0.68505311 0.6843213\n",
            " 0.65236619 0.63166242 0.63965118 0.64632883 0.6516039  0.67270403\n",
            " 0.68105868 0.68325407 0.68666916 0.67282598 0.66099525 0.68627275\n",
            " 0.69346875 0.69182218 0.68746192 0.70999515 0.71048303 0.69386516\n",
            " 0.70941581 0.72447863 0.7606111  0.7415539  0.73673619 0.76963657\n",
            " 0.76710581 0.7576229  0.75603737 0.78110141 0.78369321 0.77500311\n",
            " 0.75314064 0.74066962 0.72423469 0.72069766 0.73063793 0.71371512\n",
            " 0.71658133 0.71432494 0.70472013 0.71947802 0.73222345 0.73704112\n",
            " 0.72874742 0.72737531 0.72316751 0.71179414 0.72804613 0.74899384\n",
            " 0.76317238 0.79598129 0.80582999 0.80562764 0.80599463 0.80734307\n",
            " 0.80982447 0.81327903 0.81736422 0.82174629 0.82617402 0.8304925\n",
            " 0.83462685 0.83855712 0.84229439 0.8458631  0.84928995 0.85259843\n",
            " 0.85580701 0.85892922 0.86197501 0.86495137 0.86786377 0.87071705]\n",
            "21 day output [[0.8735152]]\n",
            "22 day input [0.72286258 0.70200639 0.70005493 0.69938412 0.69307235 0.68240031\n",
            " 0.68859009 0.67925969 0.67782659 0.67465549 0.68886455 0.67797905\n",
            " 0.66395293 0.68785832 0.71267842 0.71365413 0.70630566 0.66803883\n",
            " 0.65282354 0.64111481 0.64215151 0.66803883 0.65071962 0.67807052\n",
            " 0.6810282  0.6748689  0.67386268 0.69206612 0.70770829 0.71810591\n",
            " 0.65913531 0.64520066 0.67300892 0.66160512 0.64953045 0.62492382\n",
            " 0.60708626 0.6288572  0.6486157  0.65166485 0.63837055 0.69468839\n",
            " 0.70728141 0.69032813 0.69160877 0.69087695 0.69072449 0.6893219\n",
            " 0.69185271 0.70093917 0.70871451 0.7084401  0.69096843 0.68660816\n",
            " 0.7317661  0.73039399 0.73140022 0.71670328 0.70121358 0.69892672\n",
            " 0.70816564 0.70212833 0.72374681 0.73719363 0.73810834 0.71307478\n",
            " 0.69990247 0.68697404 0.69109042 0.69910966 0.68008298 0.6817295\n",
            " 0.67633253 0.66892307 0.68868156 0.68505311 0.6843213  0.65236619\n",
            " 0.63166242 0.63965118 0.64632883 0.6516039  0.67270403 0.68105868\n",
            " 0.68325407 0.68666916 0.67282598 0.66099525 0.68627275 0.69346875\n",
            " 0.69182218 0.68746192 0.70999515 0.71048303 0.69386516 0.70941581\n",
            " 0.72447863 0.7606111  0.7415539  0.73673619 0.76963657 0.76710581\n",
            " 0.7576229  0.75603737 0.78110141 0.78369321 0.77500311 0.75314064\n",
            " 0.74066962 0.72423469 0.72069766 0.73063793 0.71371512 0.71658133\n",
            " 0.71432494 0.70472013 0.71947802 0.73222345 0.73704112 0.72874742\n",
            " 0.72737531 0.72316751 0.71179414 0.72804613 0.74899384 0.76317238\n",
            " 0.79598129 0.80582999 0.80562764 0.80599463 0.80734307 0.80982447\n",
            " 0.81327903 0.81736422 0.82174629 0.82617402 0.8304925  0.83462685\n",
            " 0.83855712 0.84229439 0.8458631  0.84928995 0.85259843 0.85580701\n",
            " 0.85892922 0.86197501 0.86495137 0.86786377 0.87071705 0.87351519]\n",
            "22 day output [[0.876262]]\n",
            "23 day input [0.70200639 0.70005493 0.69938412 0.69307235 0.68240031 0.68859009\n",
            " 0.67925969 0.67782659 0.67465549 0.68886455 0.67797905 0.66395293\n",
            " 0.68785832 0.71267842 0.71365413 0.70630566 0.66803883 0.65282354\n",
            " 0.64111481 0.64215151 0.66803883 0.65071962 0.67807052 0.6810282\n",
            " 0.6748689  0.67386268 0.69206612 0.70770829 0.71810591 0.65913531\n",
            " 0.64520066 0.67300892 0.66160512 0.64953045 0.62492382 0.60708626\n",
            " 0.6288572  0.6486157  0.65166485 0.63837055 0.69468839 0.70728141\n",
            " 0.69032813 0.69160877 0.69087695 0.69072449 0.6893219  0.69185271\n",
            " 0.70093917 0.70871451 0.7084401  0.69096843 0.68660816 0.7317661\n",
            " 0.73039399 0.73140022 0.71670328 0.70121358 0.69892672 0.70816564\n",
            " 0.70212833 0.72374681 0.73719363 0.73810834 0.71307478 0.69990247\n",
            " 0.68697404 0.69109042 0.69910966 0.68008298 0.6817295  0.67633253\n",
            " 0.66892307 0.68868156 0.68505311 0.6843213  0.65236619 0.63166242\n",
            " 0.63965118 0.64632883 0.6516039  0.67270403 0.68105868 0.68325407\n",
            " 0.68666916 0.67282598 0.66099525 0.68627275 0.69346875 0.69182218\n",
            " 0.68746192 0.70999515 0.71048303 0.69386516 0.70941581 0.72447863\n",
            " 0.7606111  0.7415539  0.73673619 0.76963657 0.76710581 0.7576229\n",
            " 0.75603737 0.78110141 0.78369321 0.77500311 0.75314064 0.74066962\n",
            " 0.72423469 0.72069766 0.73063793 0.71371512 0.71658133 0.71432494\n",
            " 0.70472013 0.71947802 0.73222345 0.73704112 0.72874742 0.72737531\n",
            " 0.72316751 0.71179414 0.72804613 0.74899384 0.76317238 0.79598129\n",
            " 0.80582999 0.80562764 0.80599463 0.80734307 0.80982447 0.81327903\n",
            " 0.81736422 0.82174629 0.82617402 0.8304925  0.83462685 0.83855712\n",
            " 0.84229439 0.8458631  0.84928995 0.85259843 0.85580701 0.85892922\n",
            " 0.86197501 0.86495137 0.86786377 0.87071705 0.87351519 0.87626201]\n",
            "23 day output [[0.87896085]]\n",
            "24 day input [0.70005493 0.69938412 0.69307235 0.68240031 0.68859009 0.67925969\n",
            " 0.67782659 0.67465549 0.68886455 0.67797905 0.66395293 0.68785832\n",
            " 0.71267842 0.71365413 0.70630566 0.66803883 0.65282354 0.64111481\n",
            " 0.64215151 0.66803883 0.65071962 0.67807052 0.6810282  0.6748689\n",
            " 0.67386268 0.69206612 0.70770829 0.71810591 0.65913531 0.64520066\n",
            " 0.67300892 0.66160512 0.64953045 0.62492382 0.60708626 0.6288572\n",
            " 0.6486157  0.65166485 0.63837055 0.69468839 0.70728141 0.69032813\n",
            " 0.69160877 0.69087695 0.69072449 0.6893219  0.69185271 0.70093917\n",
            " 0.70871451 0.7084401  0.69096843 0.68660816 0.7317661  0.73039399\n",
            " 0.73140022 0.71670328 0.70121358 0.69892672 0.70816564 0.70212833\n",
            " 0.72374681 0.73719363 0.73810834 0.71307478 0.69990247 0.68697404\n",
            " 0.69109042 0.69910966 0.68008298 0.6817295  0.67633253 0.66892307\n",
            " 0.68868156 0.68505311 0.6843213  0.65236619 0.63166242 0.63965118\n",
            " 0.64632883 0.6516039  0.67270403 0.68105868 0.68325407 0.68666916\n",
            " 0.67282598 0.66099525 0.68627275 0.69346875 0.69182218 0.68746192\n",
            " 0.70999515 0.71048303 0.69386516 0.70941581 0.72447863 0.7606111\n",
            " 0.7415539  0.73673619 0.76963657 0.76710581 0.7576229  0.75603737\n",
            " 0.78110141 0.78369321 0.77500311 0.75314064 0.74066962 0.72423469\n",
            " 0.72069766 0.73063793 0.71371512 0.71658133 0.71432494 0.70472013\n",
            " 0.71947802 0.73222345 0.73704112 0.72874742 0.72737531 0.72316751\n",
            " 0.71179414 0.72804613 0.74899384 0.76317238 0.79598129 0.80582999\n",
            " 0.80562764 0.80599463 0.80734307 0.80982447 0.81327903 0.81736422\n",
            " 0.82174629 0.82617402 0.8304925  0.83462685 0.83855712 0.84229439\n",
            " 0.8458631  0.84928995 0.85259843 0.85580701 0.85892922 0.86197501\n",
            " 0.86495137 0.86786377 0.87071705 0.87351519 0.87626201 0.87896085]\n",
            "24 day output [[0.8816148]]\n",
            "25 day input [0.69938412 0.69307235 0.68240031 0.68859009 0.67925969 0.67782659\n",
            " 0.67465549 0.68886455 0.67797905 0.66395293 0.68785832 0.71267842\n",
            " 0.71365413 0.70630566 0.66803883 0.65282354 0.64111481 0.64215151\n",
            " 0.66803883 0.65071962 0.67807052 0.6810282  0.6748689  0.67386268\n",
            " 0.69206612 0.70770829 0.71810591 0.65913531 0.64520066 0.67300892\n",
            " 0.66160512 0.64953045 0.62492382 0.60708626 0.6288572  0.6486157\n",
            " 0.65166485 0.63837055 0.69468839 0.70728141 0.69032813 0.69160877\n",
            " 0.69087695 0.69072449 0.6893219  0.69185271 0.70093917 0.70871451\n",
            " 0.7084401  0.69096843 0.68660816 0.7317661  0.73039399 0.73140022\n",
            " 0.71670328 0.70121358 0.69892672 0.70816564 0.70212833 0.72374681\n",
            " 0.73719363 0.73810834 0.71307478 0.69990247 0.68697404 0.69109042\n",
            " 0.69910966 0.68008298 0.6817295  0.67633253 0.66892307 0.68868156\n",
            " 0.68505311 0.6843213  0.65236619 0.63166242 0.63965118 0.64632883\n",
            " 0.6516039  0.67270403 0.68105868 0.68325407 0.68666916 0.67282598\n",
            " 0.66099525 0.68627275 0.69346875 0.69182218 0.68746192 0.70999515\n",
            " 0.71048303 0.69386516 0.70941581 0.72447863 0.7606111  0.7415539\n",
            " 0.73673619 0.76963657 0.76710581 0.7576229  0.75603737 0.78110141\n",
            " 0.78369321 0.77500311 0.75314064 0.74066962 0.72423469 0.72069766\n",
            " 0.73063793 0.71371512 0.71658133 0.71432494 0.70472013 0.71947802\n",
            " 0.73222345 0.73704112 0.72874742 0.72737531 0.72316751 0.71179414\n",
            " 0.72804613 0.74899384 0.76317238 0.79598129 0.80582999 0.80562764\n",
            " 0.80599463 0.80734307 0.80982447 0.81327903 0.81736422 0.82174629\n",
            " 0.82617402 0.8304925  0.83462685 0.83855712 0.84229439 0.8458631\n",
            " 0.84928995 0.85259843 0.85580701 0.85892922 0.86197501 0.86495137\n",
            " 0.86786377 0.87071705 0.87351519 0.87626201 0.87896085 0.8816148 ]\n",
            "25 day output [[0.8842266]]\n",
            "26 day input [0.69307235 0.68240031 0.68859009 0.67925969 0.67782659 0.67465549\n",
            " 0.68886455 0.67797905 0.66395293 0.68785832 0.71267842 0.71365413\n",
            " 0.70630566 0.66803883 0.65282354 0.64111481 0.64215151 0.66803883\n",
            " 0.65071962 0.67807052 0.6810282  0.6748689  0.67386268 0.69206612\n",
            " 0.70770829 0.71810591 0.65913531 0.64520066 0.67300892 0.66160512\n",
            " 0.64953045 0.62492382 0.60708626 0.6288572  0.6486157  0.65166485\n",
            " 0.63837055 0.69468839 0.70728141 0.69032813 0.69160877 0.69087695\n",
            " 0.69072449 0.6893219  0.69185271 0.70093917 0.70871451 0.7084401\n",
            " 0.69096843 0.68660816 0.7317661  0.73039399 0.73140022 0.71670328\n",
            " 0.70121358 0.69892672 0.70816564 0.70212833 0.72374681 0.73719363\n",
            " 0.73810834 0.71307478 0.69990247 0.68697404 0.69109042 0.69910966\n",
            " 0.68008298 0.6817295  0.67633253 0.66892307 0.68868156 0.68505311\n",
            " 0.6843213  0.65236619 0.63166242 0.63965118 0.64632883 0.6516039\n",
            " 0.67270403 0.68105868 0.68325407 0.68666916 0.67282598 0.66099525\n",
            " 0.68627275 0.69346875 0.69182218 0.68746192 0.70999515 0.71048303\n",
            " 0.69386516 0.70941581 0.72447863 0.7606111  0.7415539  0.73673619\n",
            " 0.76963657 0.76710581 0.7576229  0.75603737 0.78110141 0.78369321\n",
            " 0.77500311 0.75314064 0.74066962 0.72423469 0.72069766 0.73063793\n",
            " 0.71371512 0.71658133 0.71432494 0.70472013 0.71947802 0.73222345\n",
            " 0.73704112 0.72874742 0.72737531 0.72316751 0.71179414 0.72804613\n",
            " 0.74899384 0.76317238 0.79598129 0.80582999 0.80562764 0.80599463\n",
            " 0.80734307 0.80982447 0.81327903 0.81736422 0.82174629 0.82617402\n",
            " 0.8304925  0.83462685 0.83855712 0.84229439 0.8458631  0.84928995\n",
            " 0.85259843 0.85580701 0.85892922 0.86197501 0.86495137 0.86786377\n",
            " 0.87071705 0.87351519 0.87626201 0.87896085 0.8816148  0.88422662]\n",
            "26 day output [[0.8867987]]\n",
            "27 day input [0.68240031 0.68859009 0.67925969 0.67782659 0.67465549 0.68886455\n",
            " 0.67797905 0.66395293 0.68785832 0.71267842 0.71365413 0.70630566\n",
            " 0.66803883 0.65282354 0.64111481 0.64215151 0.66803883 0.65071962\n",
            " 0.67807052 0.6810282  0.6748689  0.67386268 0.69206612 0.70770829\n",
            " 0.71810591 0.65913531 0.64520066 0.67300892 0.66160512 0.64953045\n",
            " 0.62492382 0.60708626 0.6288572  0.6486157  0.65166485 0.63837055\n",
            " 0.69468839 0.70728141 0.69032813 0.69160877 0.69087695 0.69072449\n",
            " 0.6893219  0.69185271 0.70093917 0.70871451 0.7084401  0.69096843\n",
            " 0.68660816 0.7317661  0.73039399 0.73140022 0.71670328 0.70121358\n",
            " 0.69892672 0.70816564 0.70212833 0.72374681 0.73719363 0.73810834\n",
            " 0.71307478 0.69990247 0.68697404 0.69109042 0.69910966 0.68008298\n",
            " 0.6817295  0.67633253 0.66892307 0.68868156 0.68505311 0.6843213\n",
            " 0.65236619 0.63166242 0.63965118 0.64632883 0.6516039  0.67270403\n",
            " 0.68105868 0.68325407 0.68666916 0.67282598 0.66099525 0.68627275\n",
            " 0.69346875 0.69182218 0.68746192 0.70999515 0.71048303 0.69386516\n",
            " 0.70941581 0.72447863 0.7606111  0.7415539  0.73673619 0.76963657\n",
            " 0.76710581 0.7576229  0.75603737 0.78110141 0.78369321 0.77500311\n",
            " 0.75314064 0.74066962 0.72423469 0.72069766 0.73063793 0.71371512\n",
            " 0.71658133 0.71432494 0.70472013 0.71947802 0.73222345 0.73704112\n",
            " 0.72874742 0.72737531 0.72316751 0.71179414 0.72804613 0.74899384\n",
            " 0.76317238 0.79598129 0.80582999 0.80562764 0.80599463 0.80734307\n",
            " 0.80982447 0.81327903 0.81736422 0.82174629 0.82617402 0.8304925\n",
            " 0.83462685 0.83855712 0.84229439 0.8458631  0.84928995 0.85259843\n",
            " 0.85580701 0.85892922 0.86197501 0.86495137 0.86786377 0.87071705\n",
            " 0.87351519 0.87626201 0.87896085 0.8816148  0.88422662 0.88679868]\n",
            "27 day output [[0.8893333]]\n",
            "28 day input [0.68859009 0.67925969 0.67782659 0.67465549 0.68886455 0.67797905\n",
            " 0.66395293 0.68785832 0.71267842 0.71365413 0.70630566 0.66803883\n",
            " 0.65282354 0.64111481 0.64215151 0.66803883 0.65071962 0.67807052\n",
            " 0.6810282  0.6748689  0.67386268 0.69206612 0.70770829 0.71810591\n",
            " 0.65913531 0.64520066 0.67300892 0.66160512 0.64953045 0.62492382\n",
            " 0.60708626 0.6288572  0.6486157  0.65166485 0.63837055 0.69468839\n",
            " 0.70728141 0.69032813 0.69160877 0.69087695 0.69072449 0.6893219\n",
            " 0.69185271 0.70093917 0.70871451 0.7084401  0.69096843 0.68660816\n",
            " 0.7317661  0.73039399 0.73140022 0.71670328 0.70121358 0.69892672\n",
            " 0.70816564 0.70212833 0.72374681 0.73719363 0.73810834 0.71307478\n",
            " 0.69990247 0.68697404 0.69109042 0.69910966 0.68008298 0.6817295\n",
            " 0.67633253 0.66892307 0.68868156 0.68505311 0.6843213  0.65236619\n",
            " 0.63166242 0.63965118 0.64632883 0.6516039  0.67270403 0.68105868\n",
            " 0.68325407 0.68666916 0.67282598 0.66099525 0.68627275 0.69346875\n",
            " 0.69182218 0.68746192 0.70999515 0.71048303 0.69386516 0.70941581\n",
            " 0.72447863 0.7606111  0.7415539  0.73673619 0.76963657 0.76710581\n",
            " 0.7576229  0.75603737 0.78110141 0.78369321 0.77500311 0.75314064\n",
            " 0.74066962 0.72423469 0.72069766 0.73063793 0.71371512 0.71658133\n",
            " 0.71432494 0.70472013 0.71947802 0.73222345 0.73704112 0.72874742\n",
            " 0.72737531 0.72316751 0.71179414 0.72804613 0.74899384 0.76317238\n",
            " 0.79598129 0.80582999 0.80562764 0.80599463 0.80734307 0.80982447\n",
            " 0.81327903 0.81736422 0.82174629 0.82617402 0.8304925  0.83462685\n",
            " 0.83855712 0.84229439 0.8458631  0.84928995 0.85259843 0.85580701\n",
            " 0.85892922 0.86197501 0.86495137 0.86786377 0.87071705 0.87351519\n",
            " 0.87626201 0.87896085 0.8816148  0.88422662 0.88679868 0.88933331]\n",
            "28 day output [[0.891832]]\n",
            "29 day input [0.67925969 0.67782659 0.67465549 0.68886455 0.67797905 0.66395293\n",
            " 0.68785832 0.71267842 0.71365413 0.70630566 0.66803883 0.65282354\n",
            " 0.64111481 0.64215151 0.66803883 0.65071962 0.67807052 0.6810282\n",
            " 0.6748689  0.67386268 0.69206612 0.70770829 0.71810591 0.65913531\n",
            " 0.64520066 0.67300892 0.66160512 0.64953045 0.62492382 0.60708626\n",
            " 0.6288572  0.6486157  0.65166485 0.63837055 0.69468839 0.70728141\n",
            " 0.69032813 0.69160877 0.69087695 0.69072449 0.6893219  0.69185271\n",
            " 0.70093917 0.70871451 0.7084401  0.69096843 0.68660816 0.7317661\n",
            " 0.73039399 0.73140022 0.71670328 0.70121358 0.69892672 0.70816564\n",
            " 0.70212833 0.72374681 0.73719363 0.73810834 0.71307478 0.69990247\n",
            " 0.68697404 0.69109042 0.69910966 0.68008298 0.6817295  0.67633253\n",
            " 0.66892307 0.68868156 0.68505311 0.6843213  0.65236619 0.63166242\n",
            " 0.63965118 0.64632883 0.6516039  0.67270403 0.68105868 0.68325407\n",
            " 0.68666916 0.67282598 0.66099525 0.68627275 0.69346875 0.69182218\n",
            " 0.68746192 0.70999515 0.71048303 0.69386516 0.70941581 0.72447863\n",
            " 0.7606111  0.7415539  0.73673619 0.76963657 0.76710581 0.7576229\n",
            " 0.75603737 0.78110141 0.78369321 0.77500311 0.75314064 0.74066962\n",
            " 0.72423469 0.72069766 0.73063793 0.71371512 0.71658133 0.71432494\n",
            " 0.70472013 0.71947802 0.73222345 0.73704112 0.72874742 0.72737531\n",
            " 0.72316751 0.71179414 0.72804613 0.74899384 0.76317238 0.79598129\n",
            " 0.80582999 0.80562764 0.80599463 0.80734307 0.80982447 0.81327903\n",
            " 0.81736422 0.82174629 0.82617402 0.8304925  0.83462685 0.83855712\n",
            " 0.84229439 0.8458631  0.84928995 0.85259843 0.85580701 0.85892922\n",
            " 0.86197501 0.86495137 0.86786377 0.87071705 0.87351519 0.87626201\n",
            " 0.87896085 0.8816148  0.88422662 0.88679868 0.88933331 0.89183199]\n",
            "29 day output [[0.8942962]]\n",
            "[[0.8056276440620422], [0.8059946298599243], [0.807343065738678], [0.8098244667053223], [0.8132790327072144], [0.8173642158508301], [0.821746289730072], [0.8261740207672119], [0.8304924964904785], [0.8346268534660339], [0.8385571241378784], [0.8422943949699402], [0.8458631038665771], [0.8492899537086487], [0.8525984287261963], [0.8558070063591003], [0.8589292168617249], [0.8619750142097473], [0.8649513721466064], [0.8678637742996216], [0.8707170486450195], [0.8735151886940002], [0.8762620091438293], [0.8789608478546143], [0.8816148042678833], [0.8842266201972961], [0.8867986798286438], [0.8893333077430725], [0.8918319940567017], [0.8942962288856506]]\n"
          ]
        }
      ]
    },
    {
      "cell_type": "code",
      "source": [
        "day_new=np.arange(1,151)\n",
        "day_pred=np.arange(151,181)"
      ],
      "metadata": {
        "id": "qgHd3ZAbvnXD"
      },
      "execution_count": null,
      "outputs": []
    },
    {
      "cell_type": "code",
      "source": [
        "len(df1)\n"
      ],
      "metadata": {
        "colab": {
          "base_uri": "https://localhost:8080/"
        },
        "id": "qLreBt-Nv_Ao",
        "outputId": "fe62b4d1-fc93-4c92-e140-13d9107fabf1"
      },
      "execution_count": null,
      "outputs": [
        {
          "output_type": "execute_result",
          "data": {
            "text/plain": [
              "5839"
            ]
          },
          "metadata": {},
          "execution_count": 39
        }
      ]
    },
    {
      "cell_type": "code",
      "source": [
        "plt.plot(day_new,scaler.inverse_transform(df1[5689:]))\n",
        "plt.plot(day_pred,scaler.inverse_transform(lst_output))"
      ],
      "metadata": {
        "colab": {
          "base_uri": "https://localhost:8080/",
          "height": 447
        },
        "id": "ueTvVsOMwDJC",
        "outputId": "6133d016-a41a-4bef-e539-d383b308085a"
      },
      "execution_count": null,
      "outputs": [
        {
          "output_type": "execute_result",
          "data": {
            "text/plain": [
              "[<matplotlib.lines.Line2D at 0x7a952ff505e0>]"
            ]
          },
          "metadata": {},
          "execution_count": 40
        },
        {
          "output_type": "display_data",
          "data": {
            "text/plain": [
              "<Figure size 640x480 with 1 Axes>"
            ],
            "image/png": "[encoded data removed]"
          },
          "metadata": {}
        }
      ]
    },
    {
      "cell_type": "code",
      "source": [
        "df3=df1.tolist()\n",
        "df3.extend(lst_output)\n",
        "plt.plot(df3[5690:])"
      ],
      "metadata": {
        "colab": {
          "base_uri": "https://localhost:8080/",
          "height": 447
        },
        "id": "s1zVYDixwNiw",
        "outputId": "d829e00e-39fc-4a44-8e9f-3417385b05ac"
      },
      "execution_count": null,
      "outputs": [
        {
          "output_type": "execute_result",
          "data": {
            "text/plain": [
              "[<matplotlib.lines.Line2D at 0x7a9505ba2590>]"
            ]
          },
          "metadata": {},
          "execution_count": 41
        },
        {
          "output_type": "display_data",
          "data": {
            "text/plain": [
              "<Figure size 640x480 with 1 Axes>"
            ],
            "image/png": "[encoded data removed]"
          },
          "metadata": {}
        }
      ]
    },
    {
      "cell_type": "code",
      "source": [
        "df3=scaler.inverse_transform(df3).tolist()"
      ],
      "metadata": {
        "id": "URLWOrdP3Ghm"
      },
      "execution_count": null,
      "outputs": []
    },
    {
      "cell_type": "code",
      "source": [
        "plt.plot(df3)\n"
      ],
      "metadata": {
        "colab": {
          "base_uri": "https://localhost:8080/",
          "height": 447
        },
        "id": "medAa_AK3Ogb",
        "outputId": "2a82f329-fd31-41f0-bb51-10590b2b9557"
      },
      "execution_count": null,
      "outputs": [
        {
          "output_type": "execute_result",
          "data": {
            "text/plain": [
              "[<matplotlib.lines.Line2D at 0x7a94bc53bd00>]"
            ]
          },
          "metadata": {},
          "execution_count": 43
        },
        {
          "output_type": "display_data",
          "data": {
            "text/plain": [
              "<Figure size 640x480 with 1 Axes>"
            ],
            "image/png": "[encoded data removed]"
          },
          "metadata": {}
        }
      ]
    },
    {
      "cell_type": "code",
      "source": [],
      "metadata": {
        "id": "oja058jYl47x"
      },
      "execution_count": null,
      "outputs": []
    }
  ]
}